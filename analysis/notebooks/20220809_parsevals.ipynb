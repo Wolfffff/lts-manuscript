{
 "cells": [
  {
   "attachments": {},
   "cell_type": "markdown",
   "metadata": {},
   "source": [
    "# Testing Parseval's theorem on LS"
   ]
  },
  {
   "cell_type": "code",
   "execution_count": 19,
   "metadata": {},
   "outputs": [],
   "source": [
    "import numpy as np\n",
    "\n",
    "# Generate a signal\n",
    "np.random.seed(42)  # for reproducibility\n",
    "N = 1024\n",
    "t = np.linspace(0, 10, N)  # evenly sampled time vector\n",
    "f0 = 3  # frequency of the sine wave\n",
    "a0 = 2  # amplitude of the sine wave\n",
    "noise_level = 0.10  # noise level\n",
    "\n",
    "# Create a sine wave with noise\n",
    "signal = a0 * np.sin(2 * np.pi * f0 * t) + noise_level * np.random.randn(N)"
   ]
  },
  {
   "cell_type": "code",
   "execution_count": 20,
   "metadata": {},
   "outputs": [
    {
     "name": "stdout",
     "output_type": "stream",
     "text": [
      "The results are the same\n"
     ]
    }
   ],
   "source": [
    "from scipy.signal import lombscargle\n",
    "from astropy.timeseries import LombScargle\n",
    "import numpy as np\n",
    "\n",
    "def fourier_periodogram(t, y):\n",
    "    N = len(t)\n",
    "    frequency = np.fft.fftfreq(N, t[1] - t[0])\n",
    "    y_fft = np.fft.fft(y)\n",
    "    positive = (frequency > 0)\n",
    "    return frequency[positive], (1. / N) * abs(y_fft[positive]) ** 2\n",
    "\n",
    "frequency, PSD_fourier = fourier_periodogram(t, signal)\n",
    "\n",
    "ls = LombScargle(t, signal, normalization='psd')\n",
    "PSD_LS = ls.power(frequency)\n",
    "\n",
    "# Compute the Lomb-Scargle periodogram with scipy\n",
    "angular_frequency = 2 * np.pi * frequency\n",
    "P_scipy = lombscargle(t, signal, freqs=angular_frequency, normalize=False, precenter=True)\n",
    "\n",
    "# Comparing the results \n",
    "if np.allclose(PSD_fourier, P_scipy, PSD_LS):\n",
    "    print(\"The results are the same\")\n"
   ]
  },
  {
   "cell_type": "code",
   "execution_count": 21,
   "metadata": {},
   "outputs": [
    {
     "data": {
      "image/png": "[encoded data removed]",
      "text/plain": [
       "<Figure size 720x360 with 2 Axes>"
      ]
     },
     "metadata": {
      "needs_background": "light"
     },
     "output_type": "display_data"
    }
   ],
   "source": [
    "import matplotlib.pyplot as plt\n",
    "import numpy as np\n",
    "\n",
    "# Randomly choose 5% of the points to drop from the signal\n",
    "drop_indices = np.random.choice(N, size=int(N * 0.20), replace=False)\n",
    "signal_dropped = np.delete(signal, drop_indices)\n",
    "t_dropped = np.delete(t, drop_indices)\n",
    "\n",
    "# Compute the Lomb-Scargle periodogram for the original signal using Astropy\n",
    "PSD_LS_dropped = lombscargle(t_dropped, signal_dropped, frequency * 2 * np.pi, normalize=False, precenter=True)\n",
    "\n",
    "# Create subplots\n",
    "fig, (ax1, ax2) = plt.subplots(1, 2, figsize=(10, 5))\n",
    "\n",
    "# Plot the original Lomb-Scargle periodogram\n",
    "ax1.plot(frequency, PSD_LS_dropped, label='Original LS')\n",
    "ax1.set_xlabel('Frequency')\n",
    "ax1.set_ylabel('Power Spectral Density')\n",
    "ax1.set_title('LS Dropped Values')\n",
    "ax1.set_ylim(0, 1100)\n",
    "ax1.legend()\n",
    "\n",
    "# Plot the Lomb-Scargle periodogram after dropping values\n",
    "ax2.plot(frequency, PSD_fourier, label='FFT',color = \"orange\")\n",
    "ax2.set_xlabel('Frequency')\n",
    "ax2.set_ylabel('Power Spectral Density')\n",
    "ax2.set_title('FFT')\n",
    "ax2.set_ylim(0, 1100)\n",
    "ax2.legend()\n",
    "\n",
    "plt.suptitle('Comparison of Periodograms')\n",
    "plt.tight_layout(rect=[0, 0, 1, 0.96]) # This ensures that the plots are not too close to each other\n",
    "plt.show()\n"
   ]
  },
  {
   "cell_type": "code",
   "execution_count": null,
   "metadata": {},
   "outputs": [],
   "source": []
  }
 ],
 "metadata": {
  "kernelspec": {
   "display_name": "sleap_dev",
   "language": "python",
   "name": "python3"
  },
  "language_info": {
   "codemirror_mode": {
    "name": "ipython",
    "version": 3
   },
   "file_extension": ".py",
   "mimetype": "text/x-python",
   "name": "python",
   "nbconvert_exporter": "python",
   "pygments_lexer": "ipython3",
   "version": "3.7.11"
  },
  "orig_nbformat": 4,
  "vscode": {
   "interpreter": {
    "hash": "177c836934b6a63d57a075b5cc3f7812a3de8a98495a556647184ecb20fdf5fb"
   }
  }
 },
 "nbformat": 4,
 "nbformat_minor": 2
}

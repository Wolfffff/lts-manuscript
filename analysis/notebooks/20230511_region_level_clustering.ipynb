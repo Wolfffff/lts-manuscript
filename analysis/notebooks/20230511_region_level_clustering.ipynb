{
 "cells": [
  {
   "attachments": {},
   "cell_type": "markdown",
   "metadata": {},
   "source": [
    "# 20230511 - Determining region level clustering \n",
    "\n",
    "1. Calculate lobm scargle on padded regions with known assignments\n",
    "2. Total power per joint within region (proboscis, locomotion, idle, etc)\n",
    "* Bar graph for total power\n",
    "* Threshold for things that aren’t actually moving\n",
    "\n",
    "3. Threshold each node (Slack)\n",
    "4. All by all distance claculation (frame by frame)\n",
    "* Normalized but thresholded\n",
    "* Unnormalized but thresholded\n",
    "* Unnormalized no threshold\n",
    "\n",
    "5. Generate distance matrix\n",
    "* Distance matrix with dendrogram"
   ]
  },
  {
   "cell_type": "code",
   "execution_count": 1,
   "metadata": {},
   "outputs": [],
   "source": [
    "import os\n",
    "import h5py\n",
    "import numpy as np\n",
    "from scipy.io import loadmat\n",
    "import logging\n",
    "\n",
    "# Setting up proper logging\n",
    "logger = logging.getLogger(__name__)\n",
    "logger.setLevel(logging.INFO)\n",
    "logger.addHandler(logging.StreamHandler())\n",
    "\n",
    "\n",
    "# Directory containing the h5 files\n",
    "data_dir = \"/Genomics/ayroleslab2/scott/git/lts-manuscript/analysis/20230507-mmpy-lts-all-pchip5-headprobinterp-medianwin5-gaussian-lombscargle-win50-singleflysampledtracks/Projections\"\n",
    "\n",
    "\n",
    "# Load behavior mapping\n",
    "behavior_mapping_path = \"/Genomics/ayroleslab2/scott/git/lts-manuscript/analysis/notebooks/data/behav_ind.h5\"\n",
    "behavior_mapping = h5py.File(behavior_mapping_path)[\"inds\"][:].T#loadmat(behavior_mapping_path)['behav_ind']  # replace 'behav_ind' with the actual variable name in the .mat file\n",
    "behavior_mapping = behavior_mapping.astype(int)\n",
    "# Dictionary to map behavior indices to their names\n",
    "behavior_dict = {1: 'idle', 2: 'loco', 3: 'proboscis', 4: 'fore_groom', 5: 'hind_groom'}\n"
   ]
  },
  {
   "cell_type": "code",
   "execution_count": 2,
   "metadata": {},
   "outputs": [
    {
     "name": "stderr",
     "output_type": "stream",
     "text": [
      "Total number of frames for each behavior: {'idle': 340, 'loco': 370, 'proboscis': 750, 'fore_groom': 560, 'hind_groom': 390}\n"
     ]
    }
   ],
   "source": [
    "# Initialize a dictionary to count the number of frames for each behavior\n",
    "frame_counts = {}\n",
    "\n",
    "# Loop through each row in the behavior mapping\n",
    "for row in behavior_mapping:\n",
    "    flid, samp, startframe, endframe, behavior = map(int, row)\n",
    "    behavior = behavior_dict[behavior]\n",
    "\n",
    "    # Add the number of frames for this row to the running total for this behavior\n",
    "    frame_counts[behavior] = frame_counts.get(behavior, 0) + (endframe - startframe)\n",
    "\n",
    "logger.info(f\"Total number of frames for each behavior: {frame_counts}\")"
   ]
  },
  {
   "cell_type": "code",
   "execution_count": 3,
   "metadata": {},
   "outputs": [
    {
     "name": "stderr",
     "output_type": "stream",
     "text": [
      "50it [00:00, 66.18it/s]\n"
     ]
    }
   ],
   "source": [
    "from tqdm import tqdm\n",
    "\n",
    "behavior_projections = {}\n",
    "\n",
    "# Loop through each row in the behavior mapping -- wrapped in tqdm for a progress bar\n",
    "for i, row in tqdm(enumerate(behavior_mapping)):\n",
    "    flid, samp, startframe, endframe, behavior = map(int, row)\n",
    "    behavior = behavior_dict[behavior]\n",
    "\n",
    "    # Construct the filename from flid and samp\n",
    "    filename = f\"flid_{flid}samp_{samp}-pcaModes.mat\"\n",
    "\n",
    "    # Open the h5 file\n",
    "    with h5py.File(os.path.join(data_dir, filename), 'r') as f:\n",
    "        \n",
    "        # Read the 'projections' data for the specified frames\n",
    "        # Note that this doesn't deal with frames at the beginning or end of the file for now\n",
    "        proj_shape = f['projections'].shape\n",
    "        projections = np.array(f['projections'][:,max(0,startframe-320):min(proj_shape[1],endframe+320)])\n",
    "\n",
    "    # Store the projections data in the dictionary,\n",
    "    # first level keys are behaviors, second level keys are (flid, samp) tuples\n",
    "    if behavior not in behavior_projections:\n",
    "        behavior_projections[behavior] = {}\n",
    "    behavior_projections[behavior][i] = projections\n",
    "    # Find number of flies and samples for each behavior\n"
   ]
  },
  {
   "cell_type": "code",
   "execution_count": 4,
   "metadata": {},
   "outputs": [
    {
     "name": "stderr",
     "output_type": "stream",
     "text": [
      "Number of flies and samples for behavior idle: 10\n",
      "Number of flies and samples for behavior loco: 10\n",
      "Number of flies and samples for behavior proboscis: 10\n",
      "Number of flies and samples for behavior fore_groom: 10\n",
      "Number of flies and samples for behavior hind_groom: 10\n"
     ]
    }
   ],
   "source": [
    "# Find number of flies and samples for each behavior\n",
    "for behavior in behavior_projections:\n",
    "    logger.info(f\"Number of flies and samples for behavior {behavior}: {len(behavior_projections[behavior])}\")"
   ]
  },
  {
   "cell_type": "code",
   "execution_count": 5,
   "metadata": {},
   "outputs": [],
   "source": [
    "import multiprocessing as mp\n",
    "import numpy as np\n",
    "import time\n",
    "from scipy.signal import lombscargle"
   ]
  },
  {
   "cell_type": "code",
   "execution_count": 6,
   "metadata": {},
   "outputs": [],
   "source": [
    "\n",
    "def mm_findWavelets_ls(projections, parameters):\n",
    "    t1 = time.time()\n",
    "    # print(\"\\t Calculating wavelets, clock starting.\")\n",
    "    \n",
    "    # print(\"Using Lomb-Scargle.\")\n",
    "\n",
    "    projections = np.array(projections)\n",
    "    \n",
    "    t1 = time.time()\n",
    "\n",
    "    minT = 1.0 / parameters.maxF\n",
    "    maxT = 1.0 / parameters.minF\n",
    "    Ts = minT * (\n",
    "        2\n",
    "        ** (\n",
    "            (np.arange(parameters.numPeriods) * np.log(maxT / minT))\n",
    "            / (np.log(2) * (parameters.numPeriods - 1))\n",
    "        )\n",
    "    )\n",
    "    f = (1.0 / Ts)[::-1]\n",
    "\n",
    "    omega0 = 20\n",
    "    samplingFreq = 100\n",
    "    \n",
    "    scales = (omega0 + np.sqrt(2 + omega0**2)) / (4 * np.pi * f)\n",
    "    window_sizes = np.round(scales * samplingFreq).astype(int)\n",
    "    # print(f\"Window sizes: {window_sizes}\")\n",
    "    # print(f\"Frequencies: {f}, shape: {f.shape}\")\n",
    "\n",
    "    N = projections.shape[0]\n",
    "    # print(f\"Projection shape: {projections.shape}\")\n",
    "    try:\n",
    "        pool = mp.Pool(parameters.numProcessors)\n",
    "        # print(f\"Scarglin' {projections.shape[1]} projections\")\n",
    "        amplitudes = pool.starmap(\n",
    "            rolling_lombscargle,\n",
    "            [\n",
    "                (\n",
    "                    projections[:, i],\n",
    "                    np.linspace(0, N / parameters.samplingFreq, N),\n",
    "                    f.astype(float),\n",
    "                    window_sizes,\n",
    "                )\n",
    "                for i in range(projections.shape[1])\n",
    "            ],\n",
    "        )\n",
    "        amplitudes = np.concatenate(amplitudes, 0)\n",
    "        amplitudes[~np.isfinite(amplitudes)] = 0\n",
    "        # print(f\"Done Scarglin' -- shape: {amplitudes.shape}\")\n",
    "        pool.close()\n",
    "        pool.join()\n",
    "    except Exception as E:\n",
    "        pool.close()\n",
    "        pool.join()\n",
    "        raise E\n",
    "    # print(\"\\t Done at %0.02f seconds.\" % (time.time() - t1))\n",
    "    return amplitudes.T, f, window_sizes\n",
    "\n",
    "\n",
    "def rolling_window_with_padding(arr, window_size):\n",
    "    padding = (window_size - 1) // 2\n",
    "    padded_arr = np.pad(arr, (padding, padding), mode=\"edge\")\n",
    "    shape = padded_arr.shape[:-1] + (\n",
    "        padded_arr.shape[-1] - window_size + 1,\n",
    "        window_size,\n",
    "    )\n",
    "    strides = padded_arr.strides + (padded_arr.strides[-1],)\n",
    "\n",
    "    return np.lib.stride_tricks.as_strided(padded_arr, shape=shape, strides=strides)\n",
    "\n",
    "\n",
    "def rolling_lombscargle(data, sampling_times, freqs, window_sizes):\n",
    "\n",
    "    # Initialize an empty array to store the Lomb-Scargle periodograms\n",
    "    periodograms = np.zeros((data.size, freqs.size))\n",
    "\n",
    "    for f_idx, (freq, window_size) in enumerate(zip(freqs, window_sizes)):\n",
    "        windows = rolling_window_with_padding(data, window_size)\n",
    "\n",
    "        windows_sampling_times = rolling_window_with_padding(\n",
    "            sampling_times, window_size\n",
    "        )\n",
    "\n",
    "        for i, (window, times) in enumerate(zip(windows, windows_sampling_times)):\n",
    "            angular_frequency = 2 * np.pi * freq\n",
    "            tmp_window = window.copy()\n",
    "            # print(f\"Inside rolling_lombscargle -  window shape: {window.shape}\")\n",
    "            window = window[np.isfinite(tmp_window)]\n",
    "            # print(f\"Post nan removal -  window shape: {window.shape}\")\n",
    "            # sampling_times = sampling_times[np.isfinite(tmp_window)]\n",
    "            sampling_times_window = times[np.isfinite(tmp_window)]\n",
    "            # print(f\"Processing window {i} of {windows.shape[0]}\")\n",
    "            periodogram = lombscargle(\n",
    "                sampling_times_window,\n",
    "                window,\n",
    "                [angular_frequency],\n",
    "                # normalize=True,\n",
    "                precenter=True,\n",
    "            )\n",
    "\n",
    "            if np.all(np.isnan(periodogram)):\n",
    "                periodogram = 0\n",
    "\n",
    "            periodograms[i, f_idx] = periodogram\n",
    "    return periodograms.T\n"
   ]
  },
  {
   "cell_type": "code",
   "execution_count": 7,
   "metadata": {},
   "outputs": [
    {
     "name": "stderr",
     "output_type": "stream",
     "text": [
      "Processing behavior: idle -- 10 samples\n",
      "Processing behavior: loco -- 10 samples\n",
      "Processing behavior: proboscis -- 10 samples\n",
      "Processing behavior: fore_groom -- 10 samples\n",
      "Processing behavior: hind_groom -- 10 samples\n"
     ]
    }
   ],
   "source": [
    "%%capture\n",
    "\n",
    "class Parameters:\n",
    "    def __init__(self, samplingFreq, maxF, minF, numPeriods, numProcessors, numModes):\n",
    "        self.samplingFreq = samplingFreq\n",
    "        self.maxF = maxF\n",
    "        self.minF = minF\n",
    "        self.numPeriods = numPeriods\n",
    "        self.numProcessors = numProcessors\n",
    "        self.numModes = numModes\n",
    "\n",
    "parameters = Parameters(100, 50, 1, 25, 24, 25)\n",
    "\n",
    "\n",
    "wavelet_results = {}\n",
    "\n",
    "# Now apply the wavelet function to each projection\n",
    "for behavior, flid_samp_projections in behavior_projections.items():\n",
    "    behavior_wavelets = {}\n",
    "    logger.info(f\"Processing behavior: {behavior} -- {len(flid_samp_projections)} samples\")\n",
    "    for flid_samp, projections in flid_samp_projections.items():\n",
    "\n",
    "        wavelet, freqs, window_sizes = mm_findWavelets_ls(projections.T, parameters)\n",
    "        # logger.info(f\"Processing behavior: {behavior} -- {flid_samp} -- {wavelet.shape} -- {projections.shape}\")\n",
    "        wavelet = wavelet[320:-320,:]\n",
    "        behavior_wavelets[flid_samp] = wavelet\n",
    "        # break\n",
    "    # break\n",
    "    wavelet_results[behavior] = behavior_wavelets"
   ]
  },
  {
   "attachments": {},
   "cell_type": "markdown",
   "metadata": {},
   "source": [
    "### Window size\n",
    "\n",
    "Window sizes: [319 271 230 195 166 141 120 102  87  73  62  53  45  38  33  28  23  20\n",
    "  17  14  12  10   9   8   6]\n",
    "\n",
    "### Frequencies going in\n",
    "Frequencies: [ 1. 1.17703782  1.38541802  1.63068941  1.9193831   2.2591865\n",
    "  2.65914795  3.1299177   3.6840315   4.3362444   5.10392364  6.00751115\n",
    "  7.07106781  8.32291423  9.7963848  11.53071539 13.57208808 15.97486094\n",
    " 18.80301547 22.13186029 26.05003655 30.66187818 36.09019018 42.4795187\n",
    " 50.], shape: (25,)"
   ]
  },
  {
   "cell_type": "code",
   "execution_count": 8,
   "metadata": {},
   "outputs": [
    {
     "name": "stderr",
     "output_type": "stream",
     "text": [
      "Total number of frames for each behavior -- wavelets: {'idle': 340, 'loco': 370, 'proboscis': 750, 'fore_groom': 560, 'hind_groom': 390}\n",
      "Total number of frames for each behavior -- projections: {'idle': 340, 'loco': 370, 'proboscis': 750, 'fore_groom': 560, 'hind_groom': 390}\n"
     ]
    }
   ],
   "source": [
    "total_frames_per_behavior = {}\n",
    "\n",
    "for behavior, flid_samp_wavelets in wavelet_results.items():\n",
    "    total_frames = sum([wavelet.shape[0] for wavelet in flid_samp_wavelets.values()])\n",
    "    total_frames_per_behavior[behavior] = total_frames\n",
    "\n",
    "\n",
    "# Now we can calculate the average wavelet for each behavior\n",
    "\n",
    "logger.info(f\"Total number of frames for each behavior -- wavelets: {total_frames_per_behavior}\")\n",
    "\n",
    "logger.info(f\"Total number of frames for each behavior -- projections: {frame_counts}\")"
   ]
  },
  {
   "cell_type": "code",
   "execution_count": 17,
   "metadata": {},
   "outputs": [
    {
     "name": "stderr",
     "output_type": "stream",
     "text": [
      "Aggregating wavelets for behavior idle\n",
      "Aggregating wavelets for behavior loco\n",
      "Aggregating wavelets for behavior proboscis\n",
      "Aggregating wavelets for behavior fore_groom\n",
      "Aggregating wavelets for behavior hind_groom\n"
     ]
    }
   ],
   "source": [
    "average_total_power_per_node = {}\n",
    "\n",
    "# Iterate over each behavior\n",
    "for behavior, behavior_wavelets in wavelet_results.items():\n",
    "    logger.info(f\"Aggregating wavelets for behavior {behavior}\")\n",
    "    wlets = np.concatenate(list(behavior_wavelets.values()), axis=0)\n",
    "    wlets = np.abs(wlets) ** 2  # Power\n",
    "    # wlets[wlets < 1e7] = 0 # Thresholding\n",
    "    \n",
    "    total_power_per_node = []\n",
    "\n",
    "    # Calculate power per node for each set of wavelets\n",
    "    for wavelet in behavior_wavelets.values():\n",
    "        power = np.abs(wavelet) ** 2\n",
    "\n",
    "        # Sum over the frames axis (0th dimension, as power shape is (frames, nodes*freqs))\n",
    "        total_power = np.sum(power, axis=0)\n",
    "        \n",
    "        # Reshape to separate node and frequency dimensions (assuming number of nodes is 24 and freqs is 25)\n",
    "        total_power = total_power.reshape(-1, 24, 25)\n",
    "\n",
    "        # Sum over the frequency axis to get total power per node\n",
    "        total_power_per_node.append(np.sum(total_power, axis=2))\n",
    "\n",
    "    # Average over all wavelet sets for the behavior\n",
    "    average_total_power = np.mean(total_power_per_node, axis=0)\n",
    "\n",
    "    average_total_power_per_node[behavior] = average_total_power"
   ]
  },
  {
   "cell_type": "code",
   "execution_count": 18,
   "metadata": {},
   "outputs": [
    {
     "name": "stderr",
     "output_type": "stream",
     "text": [
      "Node names: ['eyeL' 'eyeL' 'eyeR' 'eyeR' 'abdomen' 'abdomen' 'forelegL' 'forelegL'\n",
      " 'forelegR' 'forelegR' 'midlegL' 'midlegL' 'midlegR' 'midlegR' 'hindlegL'\n",
      " 'hindlegL' 'hindlegR' 'hindlegR' 'wingL' 'wingL' 'wingR' 'wingR'\n",
      " 'proboscis' 'proboscis']\n"
     ]
    }
   ],
   "source": [
    "example_file = \"/Genomics/ayroleslab2/scott/long-timescale-behavior/data/organized_tracks/20220217-lts-cam1/cam1_20220217_0through190_cam1_20220217_0through190_100-tracked.analysis.h5\"\n",
    "with h5py.File(example_file, \"r\") as f:\n",
    "    node_names = [n.decode() for n in f[\"node_names\"][:]]\n",
    "\n",
    "node_names = [n for n in node_names if n not in [\"thorax\", \"head\"]]\n",
    "node_names = np.repeat(node_names, 2)\n",
    "\n",
    "logger.info(f\"Node names: {node_names}\")"
   ]
  },
  {
   "cell_type": "code",
   "execution_count": 19,
   "metadata": {},
   "outputs": [
    {
     "data": {
      "image/png": "[encoded data removed]",
      "text/plain": [
       "<Figure size 1080x576 with 1 Axes>"
      ]
     },
     "metadata": {
      "needs_background": "light"
     },
     "output_type": "display_data"
    }
   ],
   "source": [
    "import seaborn as sns\n",
    "import pandas as pd\n",
    "import matplotlib.pyplot as plt\n",
    "\n",
    "# Node names\n",
    "node_names = ['eyeL_x', 'eyeL_y', 'eyeR_x', 'eyeR_y', 'abdomen_x', 'abdomen_y', 'forelegL_x', 'forelegL_y', 'forelegR_x', 'forelegR_y', 'midlegL_x',\n",
    "              'midlegL_y', 'midlegR_x', 'midlegR_y', 'hindlegL_x', 'hindlegL_y', 'hindlegR_x', 'hindlegR_y', 'wingL_x', 'wingL_y', 'wingR_x', 'wingR_y', 'proboscis_x', 'proboscis_y']\n",
    "\n",
    "# Prepare data for seaborn\n",
    "data = []\n",
    "for behavior, powers in average_total_power_per_node.items():\n",
    "    for node_name, power in zip(node_names, powers.flatten()):\n",
    "        data.append([behavior, node_name, power])\n",
    "\n",
    "df = pd.DataFrame(data, columns=[\"Behavior\", \"Node\", \"Average Power\"])\n",
    "\n",
    "# Plot\n",
    "plt.figure(figsize=(15, 8))\n",
    "sns.barplot(data=df, x=\"Node\", y=\"Average Power\", hue=\"Behavior\")\n",
    "plt.title('Average Power per Behavior per Node')\n",
    "plt.ylabel('Average Power')\n",
    "plt.xlabel('Node')\n",
    "plt.xticks(rotation=90)\n",
    "plt.tight_layout()\n",
    "plt.yscale('log')\n",
    "plt.ylim(1e-2)\n",
    "plt.savefig('figures/power_per_behavior_per_node.jpg')\n",
    "plt.show()\n"
   ]
  },
  {
   "cell_type": "code",
   "execution_count": 12,
   "metadata": {},
   "outputs": [
    {
     "data": {
      "text/html": [
       "<div>\n",
       "<style scoped>\n",
       "    .dataframe tbody tr th:only-of-type {\n",
       "        vertical-align: middle;\n",
       "    }\n",
       "\n",
       "    .dataframe tbody tr th {\n",
       "        vertical-align: top;\n",
       "    }\n",
       "\n",
       "    .dataframe thead th {\n",
       "        text-align: right;\n",
       "    }\n",
       "</style>\n",
       "<table border=\"1\" class=\"dataframe\">\n",
       "  <thead>\n",
       "    <tr style=\"text-align: right;\">\n",
       "      <th></th>\n",
       "      <th>Behavior</th>\n",
       "      <th>Node</th>\n",
       "      <th>Average Power</th>\n",
       "    </tr>\n",
       "  </thead>\n",
       "  <tbody>\n",
       "    <tr>\n",
       "      <th>0</th>\n",
       "      <td>idle</td>\n",
       "      <td>eyeL_x</td>\n",
       "      <td>4.022145e+07</td>\n",
       "    </tr>\n",
       "    <tr>\n",
       "      <th>1</th>\n",
       "      <td>idle</td>\n",
       "      <td>eyeL_y</td>\n",
       "      <td>1.041764e+06</td>\n",
       "    </tr>\n",
       "    <tr>\n",
       "      <th>2</th>\n",
       "      <td>idle</td>\n",
       "      <td>eyeR_x</td>\n",
       "      <td>4.084371e+07</td>\n",
       "    </tr>\n",
       "    <tr>\n",
       "      <th>3</th>\n",
       "      <td>idle</td>\n",
       "      <td>eyeR_y</td>\n",
       "      <td>1.127200e+06</td>\n",
       "    </tr>\n",
       "    <tr>\n",
       "      <th>4</th>\n",
       "      <td>idle</td>\n",
       "      <td>abdomen_x</td>\n",
       "      <td>9.291975e+07</td>\n",
       "    </tr>\n",
       "    <tr>\n",
       "      <th>...</th>\n",
       "      <td>...</td>\n",
       "      <td>...</td>\n",
       "      <td>...</td>\n",
       "    </tr>\n",
       "    <tr>\n",
       "      <th>115</th>\n",
       "      <td>hind_groom</td>\n",
       "      <td>wingL_y</td>\n",
       "      <td>1.600463e+07</td>\n",
       "    </tr>\n",
       "    <tr>\n",
       "      <th>116</th>\n",
       "      <td>hind_groom</td>\n",
       "      <td>wingR_x</td>\n",
       "      <td>6.384447e+08</td>\n",
       "    </tr>\n",
       "    <tr>\n",
       "      <th>117</th>\n",
       "      <td>hind_groom</td>\n",
       "      <td>wingR_y</td>\n",
       "      <td>1.110808e+08</td>\n",
       "    </tr>\n",
       "    <tr>\n",
       "      <th>118</th>\n",
       "      <td>hind_groom</td>\n",
       "      <td>proboscis_x</td>\n",
       "      <td>1.520201e+08</td>\n",
       "    </tr>\n",
       "    <tr>\n",
       "      <th>119</th>\n",
       "      <td>hind_groom</td>\n",
       "      <td>proboscis_y</td>\n",
       "      <td>1.908948e-55</td>\n",
       "    </tr>\n",
       "  </tbody>\n",
       "</table>\n",
       "<p>120 rows × 3 columns</p>\n",
       "</div>"
      ],
      "text/plain": [
       "       Behavior         Node  Average Power\n",
       "0          idle       eyeL_x   4.022145e+07\n",
       "1          idle       eyeL_y   1.041764e+06\n",
       "2          idle       eyeR_x   4.084371e+07\n",
       "3          idle       eyeR_y   1.127200e+06\n",
       "4          idle    abdomen_x   9.291975e+07\n",
       "..          ...          ...            ...\n",
       "115  hind_groom      wingL_y   1.600463e+07\n",
       "116  hind_groom      wingR_x   6.384447e+08\n",
       "117  hind_groom      wingR_y   1.110808e+08\n",
       "118  hind_groom  proboscis_x   1.520201e+08\n",
       "119  hind_groom  proboscis_y   1.908948e-55\n",
       "\n",
       "[120 rows x 3 columns]"
      ]
     },
     "execution_count": 12,
     "metadata": {},
     "output_type": "execute_result"
    }
   ],
   "source": [
    "df"
   ]
  },
  {
   "cell_type": "code",
   "execution_count": 13,
   "metadata": {},
   "outputs": [
    {
     "name": "stderr",
     "output_type": "stream",
     "text": [
      "  0%|          | 0/5 [00:00<?, ?it/s]/Genomics/argo/users/swwolf/.conda/envs/sleap_dev/lib/python3.7/site-packages/ipykernel_launcher.py:32: UserWarning: FixedFormatter should only be used together with FixedLocator\n"
     ]
    },
    {
     "name": "stdout",
     "output_type": "stream",
     "text": [
      "Plotting behavior idle\n"
     ]
    },
    {
     "name": "stderr",
     "output_type": "stream",
     "text": [
      " 20%|██        | 1/5 [00:01<00:07,  1.89s/it]"
     ]
    },
    {
     "name": "stdout",
     "output_type": "stream",
     "text": [
      "Plotting behavior loco\n"
     ]
    },
    {
     "name": "stderr",
     "output_type": "stream",
     "text": [
      " 40%|████      | 2/5 [00:03<00:05,  1.87s/it]"
     ]
    },
    {
     "name": "stdout",
     "output_type": "stream",
     "text": [
      "Plotting behavior proboscis\n"
     ]
    },
    {
     "name": "stderr",
     "output_type": "stream",
     "text": [
      " 60%|██████    | 3/5 [00:05<00:03,  1.87s/it]"
     ]
    },
    {
     "name": "stdout",
     "output_type": "stream",
     "text": [
      "Plotting behavior fore_groom\n"
     ]
    },
    {
     "name": "stderr",
     "output_type": "stream",
     "text": [
      " 80%|████████  | 4/5 [00:07<00:01,  1.87s/it]"
     ]
    },
    {
     "name": "stdout",
     "output_type": "stream",
     "text": [
      "Plotting behavior hind_groom\n"
     ]
    },
    {
     "name": "stderr",
     "output_type": "stream",
     "text": [
      "100%|██████████| 5/5 [00:09<00:00,  1.89s/it]\n"
     ]
    }
   ],
   "source": [
    "from tqdm import tqdm\n",
    "from pathlib import Path\n",
    "import matplotlib.pyplot as plt\n",
    "import numpy as np\n",
    "\n",
    "# Assuming wavelet_results is your dict with behavior as key and wavelets (N, 600) as value\n",
    "# Assuming freqs is your list of frequencies\n",
    "# Assuming wlet_nodes is your list of node names\n",
    "\n",
    "figures_path = Path(\"figures/fingerprints/ls-behavior-signatures/\")\n",
    "figures_path.mkdir(parents=True, exist_ok=True)\n",
    "\n",
    "for behavior, behavior_wavelets in tqdm(wavelet_results.items()):\n",
    "    wlets = np.concatenate(list(behavior_wavelets.values()), axis=0)\n",
    "    print(f\"Plotting behavior {behavior}\")\n",
    "    power = np.abs(wlets) ** 2\n",
    "    # power[power < 1e7] = 0\n",
    "    mean_amps = np.mean(power, axis=0)  # compute power spectrum\n",
    "    split_to_nodes = np.array_split(mean_amps, 24)\n",
    "    resulting_numpy = np.zeros((24, 25))\n",
    "    for i, node_mean_amps in enumerate(split_to_nodes):\n",
    "        resulting_numpy[i, :] = node_mean_amps\n",
    "    fig, ax = plt.subplots(figsize=(10, 5))\n",
    "    im = ax.imshow(resulting_numpy, aspect=\"auto\")\n",
    "    ax.set_xticks([0, 5, 10, 15, 20, 24])\n",
    "    ax.set_xticklabels([\"%0.1f\" % freqs[j] for j in [0, 5, 10, 15, 20, 24]])\n",
    "    ax.set_yticks(np.arange(24))\n",
    "    ax.set_yticklabels([node_names[j] for j in np.arange(24)])\n",
    "    cbar = plt.colorbar(im, ax=ax)\n",
    "    cbar.set_label('Power Spectrum')\n",
    "    # cbar.set_ticks(np.linspace(0, 1, num=5))\n",
    "    cbar.set_ticklabels(['{:.2E}'.format(10 ** tick) for tick in np.linspace(np.log10(resulting_numpy.min()), np.log10(resulting_numpy.max()), num=10)])\n",
    "    fig.savefig(\n",
    "        figures_path / f\"behavior-{behavior}-wavelet-example-by-part.png\",\n",
    "        dpi=600,\n",
    "        bbox_inches=\"tight\",\n",
    "    )\n",
    "    plt.close()\n"
   ]
  },
  {
   "cell_type": "code",
   "execution_count": 14,
   "metadata": {},
   "outputs": [],
   "source": [
    "import pickle\n",
    "pickle.dump(wavelet_results, open(\"data/wavelet_results.pickle\", \"wb\"))"
   ]
  },
  {
   "cell_type": "code",
   "execution_count": null,
   "metadata": {},
   "outputs": [],
   "source": []
  }
 ],
 "metadata": {
  "kernelspec": {
   "display_name": "sleap_dev",
   "language": "python",
   "name": "python3"
  },
  "language_info": {
   "codemirror_mode": {
    "name": "ipython",
    "version": 3
   },
   "file_extension": ".py",
   "mimetype": "text/x-python",
   "name": "python",
   "nbconvert_exporter": "python",
   "pygments_lexer": "ipython3",
   "version": "3.7.11"
  },
  "orig_nbformat": 4
 },
 "nbformat": 4,
 "nbformat_minor": 2
}

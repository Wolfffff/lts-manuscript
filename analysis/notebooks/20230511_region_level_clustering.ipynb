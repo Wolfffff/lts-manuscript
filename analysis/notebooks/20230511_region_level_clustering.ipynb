{
 "cells": [
  {
   "attachments": {},
   "cell_type": "markdown",
   "metadata": {},
   "source": [
    "# 20230511 - Determining region level clustering \n",
    "\n",
    "1. Calculate lobm scargle on padded regions with known assignments\n",
    "2. Total power per joint within region (proboscis, locomotion, idle, etc)\n",
    "* Bar graph for total power\n",
    "* Threshold for things that aren’t actually moving\n",
    "\n",
    "3. Threshold each node (Slack)\n",
    "4. All by all distance claculation (frame by frame)\n",
    "* Normalized but thresholded\n",
    "* Unnormalized but thresholded\n",
    "* Unnormalized no threshold\n",
    "\n",
    "5. Generate distance matrix\n",
    "* Distance matrix with dendrogram"
   ]
  },
  {
   "cell_type": "code",
   "execution_count": 1,
   "metadata": {},
   "outputs": [],
   "source": [
    "import os\n",
    "import h5py\n",
    "import numpy as np\n",
    "from scipy.io import loadmat\n",
    "import logging\n",
    "\n",
    "# Setting up proper logging\n",
    "logger = logging.getLogger(__name__)\n",
    "logger.setLevel(logging.INFO)\n",
    "logger.addHandler(logging.StreamHandler())\n",
    "\n",
    "\n",
    "# Directory containing the h5 files\n",
    "data_dir = \"/Genomics/ayroleslab2/scott/git/lts-manuscript/analysis/20230507-mmpy-lts-all-pchip5-headprobinterp-medianwin5-gaussian-lombscargle-win50-singleflysampledtracks/Projections\"\n",
    "\n",
    "\n",
    "# Load behavior mapping\n",
    "behavior_mapping_path = \"/Genomics/ayroleslab2/scott/git/lts-manuscript/analysis/notebooks/data/behav_ind.h5\"\n",
    "behavior_mapping = h5py.File(behavior_mapping_path)[\"inds\"][:].T#loadmat(behavior_mapping_path)['behav_ind']  # replace 'behav_ind' with the actual variable name in the .mat file\n",
    "behavior_mapping = behavior_mapping.astype(int)\n",
    "# Dictionary to map behavior indices to their names\n",
    "behavior_dict = {1: 'idle', 2: 'loco', 3: 'proboscis', 4: 'fore_groom', 5: 'hind_groom'}\n"
   ]
  },
  {
   "cell_type": "code",
   "execution_count": 2,
   "metadata": {},
   "outputs": [
    {
     "name": "stderr",
     "output_type": "stream",
     "text": [
      "Total number of frames for each behavior: {'idle': 340, 'loco': 370, 'proboscis': 750, 'fore_groom': 560, 'hind_groom': 390}\n"
     ]
    }
   ],
   "source": [
    "# Initialize a dictionary to count the number of frames for each behavior\n",
    "frame_counts = {}\n",
    "\n",
    "# Loop through each row in the behavior mapping\n",
    "for row in behavior_mapping:\n",
    "    flid, samp, startframe, endframe, behavior = map(int, row)\n",
    "    behavior = behavior_dict[behavior]\n",
    "\n",
    "    # Add the number of frames for this row to the running total for this behavior\n",
    "    frame_counts[behavior] = frame_counts.get(behavior, 0) + (endframe - startframe)\n",
    "\n",
    "logger.info(f\"Total number of frames for each behavior: {frame_counts}\")"
   ]
  },
  {
   "cell_type": "code",
   "execution_count": 3,
   "metadata": {},
   "outputs": [
    {
     "name": "stderr",
     "output_type": "stream",
     "text": [
      "50it [00:00, 57.43it/s]\n"
     ]
    }
   ],
   "source": [
    "from tqdm import tqdm\n",
    "\n",
    "behavior_projections = {}\n",
    "\n",
    "# Loop through each row in the behavior mapping -- wrapped in tqdm for a progress bar\n",
    "for i, row in tqdm(enumerate(behavior_mapping)):\n",
    "    flid, samp, startframe, endframe, behavior = map(int, row)\n",
    "    behavior = behavior_dict[behavior]\n",
    "\n",
    "    # Construct the filename from flid and samp\n",
    "    filename = f\"flid_{flid}samp_{samp}-pcaModes.mat\"\n",
    "\n",
    "    # Open the h5 file\n",
    "    with h5py.File(os.path.join(data_dir, filename), 'r') as f:\n",
    "        \n",
    "        # Read the 'projections' data for the specified frames\n",
    "        # Note that this doesn't deal with frames at the beginning or end of the file for now\n",
    "        proj_shape = f['projections'].shape\n",
    "        projections = np.array(f['projections'][:,max(0,startframe-320):min(proj_shape[1],endframe+320)])\n",
    "\n",
    "    # Store the projections data in the dictionary,\n",
    "    # first level keys are behaviors, second level keys are (flid, samp) tuples\n",
    "    if behavior not in behavior_projections:\n",
    "        behavior_projections[behavior] = {}\n",
    "    behavior_projections[behavior][i] = projections\n",
    "    # Find number of flies and samples for each behavior\n"
   ]
  },
  {
   "cell_type": "code",
   "execution_count": 4,
   "metadata": {},
   "outputs": [
    {
     "name": "stderr",
     "output_type": "stream",
     "text": [
      "Number of flies and samples for behavior idle: 10\n",
      "Number of flies and samples for behavior loco: 10\n",
      "Number of flies and samples for behavior proboscis: 10\n",
      "Number of flies and samples for behavior fore_groom: 10\n",
      "Number of flies and samples for behavior hind_groom: 10\n"
     ]
    }
   ],
   "source": [
    "# Find number of flies and samples for each behavior\n",
    "for behavior in behavior_projections:\n",
    "    logger.info(f\"Number of flies and samples for behavior {behavior}: {len(behavior_projections[behavior])}\")"
   ]
  },
  {
   "cell_type": "code",
   "execution_count": 5,
   "metadata": {},
   "outputs": [],
   "source": [
    "import multiprocessing as mp\n",
    "import numpy as np\n",
    "import time\n",
    "from scipy.signal import lombscargle"
   ]
  },
  {
   "cell_type": "code",
   "execution_count": 6,
   "metadata": {},
   "outputs": [],
   "source": [
    "\n",
    "def mm_findWavelets_ls(projections, parameters):\n",
    "    t1 = time.time()\n",
    "    # print(\"\\t Calculating wavelets, clock starting.\")\n",
    "    \n",
    "    # print(\"Using Lomb-Scargle.\")\n",
    "\n",
    "    projections = np.array(projections)\n",
    "    \n",
    "    t1 = time.time()\n",
    "\n",
    "    minT = 1.0 / parameters.maxF\n",
    "    maxT = 1.0 / parameters.minF\n",
    "    Ts = minT * (\n",
    "        2\n",
    "        ** (\n",
    "            (np.arange(parameters.numPeriods) * np.log(maxT / minT))\n",
    "            / (np.log(2) * (parameters.numPeriods - 1))\n",
    "        )\n",
    "    )\n",
    "    f = (1.0 / Ts)[::-1]\n",
    "\n",
    "    omega0 = 20\n",
    "    samplingFreq = 100\n",
    "    \n",
    "    scales = (omega0 + np.sqrt(2 + omega0**2)) / (4 * np.pi * f)\n",
    "    window_sizes = np.round(scales * samplingFreq).astype(int)\n",
    "    # print(f\"Window sizes: {window_sizes}\")\n",
    "    # print(f\"Frequencies: {f}, shape: {f.shape}\")\n",
    "\n",
    "    N = projections.shape[0]\n",
    "    # print(f\"Projection shape: {projections.shape}\")\n",
    "    try:\n",
    "        pool = mp.Pool(parameters.numProcessors)\n",
    "        # print(f\"Scarglin' {projections.shape[1]} projections\")\n",
    "        amplitudes = pool.starmap(\n",
    "            rolling_lombscargle,\n",
    "            [\n",
    "                (\n",
    "                    projections[:, i],\n",
    "                    np.linspace(0, N / parameters.samplingFreq, N),\n",
    "                    f.astype(float),\n",
    "                    window_sizes,\n",
    "                )\n",
    "                for i in range(projections.shape[1])\n",
    "            ],\n",
    "        )\n",
    "        amplitudes = np.concatenate(amplitudes, 0)\n",
    "        amplitudes[~np.isfinite(amplitudes)] = 0\n",
    "        # print(f\"Done Scarglin' -- shape: {amplitudes.shape}\")\n",
    "        pool.close()\n",
    "        pool.join()\n",
    "    except Exception as E:\n",
    "        pool.close()\n",
    "        pool.join()\n",
    "        raise E\n",
    "    # print(\"\\t Done at %0.02f seconds.\" % (time.time() - t1))\n",
    "    return amplitudes.T, f, window_sizes\n",
    "\n",
    "\n",
    "def rolling_window_with_padding(arr, window_size):\n",
    "    padding = (window_size - 1) // 2\n",
    "    padded_arr = np.pad(arr, (padding, padding), mode=\"edge\")\n",
    "    shape = padded_arr.shape[:-1] + (\n",
    "        padded_arr.shape[-1] - window_size + 1,\n",
    "        window_size,\n",
    "    )\n",
    "    strides = padded_arr.strides + (padded_arr.strides[-1],)\n",
    "\n",
    "    return np.lib.stride_tricks.as_strided(padded_arr, shape=shape, strides=strides)\n",
    "\n",
    "\n",
    "def rolling_lombscargle(data, sampling_times, freqs, window_sizes):\n",
    "\n",
    "    # Initialize an empty array to store the Lomb-Scargle periodograms\n",
    "    periodograms = np.zeros((data.size, freqs.size))\n",
    "\n",
    "    for f_idx, (freq, window_size) in enumerate(zip(freqs, window_sizes)):\n",
    "        windows = rolling_window_with_padding(data, window_size)\n",
    "\n",
    "        windows_sampling_times = rolling_window_with_padding(\n",
    "            sampling_times, window_size\n",
    "        )\n",
    "\n",
    "        for i, (window, times) in enumerate(zip(windows, windows_sampling_times)):\n",
    "            angular_frequency = 2 * np.pi * freq\n",
    "            tmp_window = window.copy()\n",
    "            # print(f\"Inside rolling_lombscargle -  window shape: {window.shape}\")\n",
    "            window = window[np.isfinite(tmp_window)]\n",
    "            # print(f\"Post nan removal -  window shape: {window.shape}\")\n",
    "            # sampling_times = sampling_times[np.isfinite(tmp_window)]\n",
    "            sampling_times_window = times[np.isfinite(tmp_window)]\n",
    "            # print(f\"Processing window {i} of {windows.shape[0]}\")\n",
    "            periodogram = lombscargle(\n",
    "                sampling_times_window,\n",
    "                window,\n",
    "                [angular_frequency],\n",
    "                normalize=True,\n",
    "                precenter=True,\n",
    "            )\n",
    "\n",
    "            if np.all(np.isnan(periodogram)):\n",
    "                periodogram = 0\n",
    "\n",
    "            periodograms[i, f_idx] = periodogram\n",
    "    return periodograms.T\n"
   ]
  },
  {
   "cell_type": "code",
   "execution_count": 7,
   "metadata": {},
   "outputs": [
    {
     "name": "stderr",
     "output_type": "stream",
     "text": [
      "Processing behavior: idle -- 10 samples\n",
      "Processing behavior: loco -- 10 samples\n",
      "Processing behavior: proboscis -- 10 samples\n",
      "Processing behavior: fore_groom -- 10 samples\n",
      "Processing behavior: hind_groom -- 10 samples\n"
     ]
    }
   ],
   "source": [
    "%%capture\n",
    "\n",
    "class Parameters:\n",
    "    def __init__(self, samplingFreq, maxF, minF, numPeriods, numProcessors, numModes):\n",
    "        self.samplingFreq = samplingFreq\n",
    "        self.maxF = maxF\n",
    "        self.minF = minF\n",
    "        self.numPeriods = numPeriods\n",
    "        self.numProcessors = numProcessors\n",
    "        self.numModes = numModes\n",
    "\n",
    "parameters = Parameters(100, 50, 1, 25, 24, 25)\n",
    "\n",
    "\n",
    "wavelet_results = {}\n",
    "\n",
    "# Now apply the wavelet function to each projection\n",
    "for behavior, flid_samp_projections in behavior_projections.items():\n",
    "    behavior_wavelets = {}\n",
    "    logger.info(f\"Processing behavior: {behavior} -- {len(flid_samp_projections)} samples\")\n",
    "    for flid_samp, projections in flid_samp_projections.items():\n",
    "\n",
    "        wavelet, f, window_sizes = mm_findWavelets_ls(projections.T, parameters)\n",
    "        # logger.info(f\"Processing behavior: {behavior} -- {flid_samp} -- {wavelet.shape} -- {projections.shape}\")\n",
    "        wavelet = wavelet[320:-320,:]\n",
    "        behavior_wavelets[flid_samp] = wavelet\n",
    "        # break\n",
    "    # break\n",
    "    wavelet_results[behavior] = behavior_wavelets"
   ]
  },
  {
   "cell_type": "code",
   "execution_count": 11,
   "metadata": {},
   "outputs": [
    {
     "name": "stdout",
     "output_type": "stream",
     "text": [
      "Power shape: (34, 600)\n",
      "Power shape: (34, 600)\n",
      "Power shape: (34, 600)\n",
      "Power shape: (34, 600)\n",
      "Power shape: (34, 600)\n",
      "Power shape: (34, 600)\n",
      "Power shape: (34, 600)\n",
      "Power shape: (34, 600)\n",
      "Power shape: (34, 600)\n",
      "Power shape: (34, 600)\n",
      "Power shape: (29, 600)\n",
      "Power shape: (29, 600)\n",
      "Power shape: (29, 600)\n",
      "Power shape: (29, 600)\n",
      "Power shape: (29, 600)\n",
      "Power shape: (29, 600)\n",
      "Power shape: (49, 600)\n",
      "Power shape: (49, 600)\n",
      "Power shape: (49, 600)\n",
      "Power shape: (49, 600)\n",
      "Power shape: (69, 600)\n",
      "Power shape: (69, 600)\n",
      "Power shape: (69, 600)\n",
      "Power shape: (69, 600)\n",
      "Power shape: (69, 600)\n",
      "Power shape: (69, 600)\n",
      "Power shape: (69, 600)\n",
      "Power shape: (69, 600)\n",
      "Power shape: (99, 600)\n",
      "Power shape: (99, 600)\n",
      "Power shape: (29, 600)\n",
      "Power shape: (29, 600)\n",
      "Power shape: (29, 600)\n",
      "Power shape: (69, 600)\n",
      "Power shape: (69, 600)\n",
      "Power shape: (69, 600)\n",
      "Power shape: (79, 600)\n",
      "Power shape: (79, 600)\n",
      "Power shape: (79, 600)\n",
      "Power shape: (29, 600)\n",
      "Power shape: (39, 600)\n",
      "Power shape: (39, 600)\n",
      "Power shape: (39, 600)\n",
      "Power shape: (39, 600)\n",
      "Power shape: (39, 600)\n",
      "Power shape: (39, 600)\n",
      "Power shape: (39, 600)\n",
      "Power shape: (39, 600)\n",
      "Power shape: (39, 600)\n",
      "Power shape: (39, 600)\n"
     ]
    }
   ],
   "source": [
    "# Initialize dictionary to store results\n",
    "avg_total_power_per_behavior = {}\n",
    "\n",
    "# Loop through each behavior and its associated wavelet results\n",
    "for behavior, flid_samp_wavelets in wavelet_results.items():\n",
    "    # Initialize list to store total power for each flid_samp\n",
    "    total_power_list = []\n",
    "\n",
    "    # Loop through each flid_samp and its associated wavelet\n",
    "    for flid_samp, wavelet in flid_samp_wavelets.items():\n",
    "        # Calculate the power of the wavelet (i.e., square of the absolute value)\n",
    "        power = np.abs(wavelet)**2\n",
    "        print(f\"Power shape: {power.shape}\")\n",
    "\n",
    "    #     # Sum up the power across all frames (axis=1) to get total power\n",
    "    #     total_power = np.sum(power, axis=1)\n",
    "\n",
    "    #     # Append to the list\n",
    "    #     total_power_list.append(total_power)\n",
    "\n",
    "    # # Calculate the average total power (i.e., mean of total power across all flid_samps)\n",
    "    # avg_total_power = np.mean(total_power_list, axis=0)\n",
    "\n",
    "    # Store in the result dictionary\n",
    "    # avg_total_power_per_behavior[behavior] = avg_total_power\n"
   ]
  },
  {
   "attachments": {},
   "cell_type": "markdown",
   "metadata": {},
   "source": [
    "### Window size\n",
    "\n",
    "Window sizes: [319 271 230 195 166 141 120 102  87  73  62  53  45  38  33  28  23  20\n",
    "  17  14  12  10   9   8   6]\n",
    "\n",
    "### Frequencies going in\n",
    "Frequencies: [ 1. 1.17703782  1.38541802  1.63068941  1.9193831   2.2591865\n",
    "  2.65914795  3.1299177   3.6840315   4.3362444   5.10392364  6.00751115\n",
    "  7.07106781  8.32291423  9.7963848  11.53071539 13.57208808 15.97486094\n",
    " 18.80301547 22.13186029 26.05003655 30.66187818 36.09019018 42.4795187\n",
    " 50.], shape: (25,)"
   ]
  },
  {
   "cell_type": "code",
   "execution_count": 8,
   "metadata": {},
   "outputs": [
    {
     "name": "stderr",
     "output_type": "stream",
     "text": [
      "Total number of frames for each behavior -- wavelets: {'idle': 340, 'loco': 370, 'proboscis': 750, 'fore_groom': 560, 'hind_groom': 390}\n",
      "Total number of frames for each behavior -- projections: {'idle': 340, 'loco': 370, 'proboscis': 750, 'fore_groom': 560, 'hind_groom': 390}\n"
     ]
    }
   ],
   "source": [
    "total_frames_per_behavior = {}\n",
    "\n",
    "for behavior, flid_samp_wavelets in wavelet_results.items():\n",
    "    total_frames = sum([wavelet.shape[0] for wavelet in flid_samp_wavelets.values()])\n",
    "    total_frames_per_behavior[behavior] = total_frames\n",
    "\n",
    "\n",
    "# Now we can calculate the average wavelet for each behavior\n",
    "\n",
    "logger.info(f\"Total number of frames for each behavior -- wavelets: {total_frames_per_behavior}\")\n",
    "\n",
    "logger.info(f\"Total number of frames for each behavior -- projections: {frame_counts}\")"
   ]
  },
  {
   "cell_type": "code",
   "execution_count": 31,
   "metadata": {},
   "outputs": [],
   "source": [
    "average_total_power_per_node = {}\n",
    "\n",
    "# Iterate over each behavior\n",
    "for behavior, behavior_wavelets in wavelet_results.items():\n",
    "    total_power_per_node = []\n",
    "\n",
    "    # Iterate over each set of wavelets for the behavior\n",
    "    for wavelet in behavior_wavelets.values():\n",
    "        # Calculate power of wavelet, square of absolute value\n",
    "        power = np.abs(wavelet) ** 2\n",
    "\n",
    "        # Sum over the frames axis (0th dimension, as power shape is (frames, nodes*freqs))\n",
    "        total_power = np.sum(power, axis=0)\n",
    "\n",
    "        # Reshape to separate node and frequency dimensions (assuming number of nodes is 24 and freqs is 25)\n",
    "        total_power = total_power.reshape(-1, 24, 25)\n",
    "\n",
    "        # Sum over the frequency axis to get total power per node\n",
    "        total_power_per_node.append(np.sum(total_power, axis=2))\n",
    "\n",
    "    # Average over all wavelet sets for the behavior\n",
    "    average_total_power = np.mean(total_power_per_node, axis=0)\n",
    "\n",
    "    average_total_power_per_node[behavior] = average_total_power\n",
    "\n",
    "# Now average_total_power_per_node[behavior] is an array of shape (nodes,) containing the average total power for each node\n"
   ]
  },
  {
   "cell_type": "code",
   "execution_count": 32,
   "metadata": {},
   "outputs": [
    {
     "data": {
      "text/plain": [
       "{'idle': array([[7.43500013e-07, 5.98887514e-07, 1.35307363e-07, 1.02133542e-06,\n",
       "         3.91737321e-08, 3.97497533e-01, 9.92495810e-05, 2.17959296e-02,\n",
       "         2.43747124e-05, 3.15131427e-02, 1.48312756e-01, 2.75624423e-05,\n",
       "         6.84794183e-02, 7.23452791e-06, 1.67136041e-04, 9.95727536e-05,\n",
       "         9.33082763e-06, 3.08894837e-05, 5.81496489e-09, 3.23579402e-03,\n",
       "         7.05966496e-09, 6.14068980e-04, 1.05196926e-07, 1.93534183e+01]]),\n",
       " 'loco': array([[7.95400817e-06, 5.33361841e-05, 9.51718429e-06, 7.17950330e-05,\n",
       "         3.07703841e-05, 2.88702283e+00, 5.01794517e-02, 1.44644838e-01,\n",
       "         1.80934058e-02, 3.50473506e-01, 1.66455025e+01, 3.48398633e-03,\n",
       "         2.07707974e+01, 1.39038302e-01, 4.74175596e-02, 3.12554083e-02,\n",
       "         6.07092664e-02, 1.74076590e-01, 1.49967681e-06, 3.26814609e-01,\n",
       "         1.30404046e-06, 2.08372682e-01, 4.55652973e-06, 2.22784105e+01]]),\n",
       " 'proboscis': array([[1.08697448e-05, 3.28475976e-05, 1.69421419e-05, 3.75353159e-05,\n",
       "         4.52311389e-06, 2.77792153e-01, 1.34881988e-03, 3.25283350e-01,\n",
       "         5.83908028e-04, 8.15306750e-01, 7.65234928e-01, 2.16593144e-02,\n",
       "         7.30601820e-01, 7.76555102e-04, 1.03488847e-02, 5.70828280e-03,\n",
       "         9.36066970e-03, 9.39491405e-03, 1.05733821e-06, 5.61799329e-01,\n",
       "         1.51946143e-06, 8.18094390e-02, 1.86380709e-04, 2.54284686e+01]]),\n",
       " 'fore_groom': array([[8.77621316e-07, 1.47569378e-04, 4.41470086e-06, 1.21115092e-04,\n",
       "         1.12924705e-07, 1.08250754e+00, 4.04449637e-04, 1.08170625e+01,\n",
       "         1.20039076e-03, 3.89342618e+00, 9.93252563e-03, 4.48989075e-04,\n",
       "         1.09319704e-04, 1.20508204e-03, 6.93824785e-05, 6.66869757e-05,\n",
       "         4.45401726e-05, 7.22027149e-06, 1.78942569e-08, 8.70634418e-01,\n",
       "         1.21225794e-07, 8.55142078e-02, 3.17114658e-05, 3.71609188e+01]]),\n",
       " 'hind_groom': array([[7.93188392e-07, 2.12019330e-06, 1.19141101e-06, 3.89082547e-06,\n",
       "         1.90210815e-06, 1.45665747e+00, 1.37438657e-01, 1.39955870e-01,\n",
       "         3.24633381e-03, 3.17326495e-03, 1.26558340e-01, 8.68809214e-03,\n",
       "         1.29071896e-01, 2.31594321e-02, 4.15668598e-02, 8.58009035e+00,\n",
       "         2.74731682e-02, 9.97995526e-01, 2.30302029e-05, 6.69056293e-02,\n",
       "         1.08794786e-04, 5.07184742e-01, 4.41310429e-07, 2.23949438e+01]])}"
      ]
     },
     "execution_count": 32,
     "metadata": {},
     "output_type": "execute_result"
    }
   ],
   "source": [
    "average_total_power_per_node"
   ]
  },
  {
   "cell_type": "code",
   "execution_count": 33,
   "metadata": {},
   "outputs": [
    {
     "name": "stderr",
     "output_type": "stream",
     "text": [
      "Node names: ['eyeL' 'eyeL' 'eyeR' 'eyeR' 'abdomen' 'abdomen' 'forelegL' 'forelegL'\n",
      " 'forelegR' 'forelegR' 'midlegL' 'midlegL' 'midlegR' 'midlegR' 'hindlegL'\n",
      " 'hindlegL' 'hindlegR' 'hindlegR' 'wingL' 'wingL' 'wingR' 'wingR'\n",
      " 'proboscis' 'proboscis']\n"
     ]
    }
   ],
   "source": [
    "example_file = \"/Genomics/ayroleslab2/scott/long-timescale-behavior/data/organized_tracks/20220217-lts-cam1/cam1_20220217_0through190_cam1_20220217_0through190_100-tracked.analysis.h5\"\n",
    "with h5py.File(example_file, \"r\") as f:\n",
    "    node_names = [n.decode() for n in f[\"node_names\"][:]]\n",
    "\n",
    "node_names = [n for n in node_names if n not in [\"thorax\", \"head\"]]\n",
    "node_names = np.repeat(node_names, 2)\n",
    "\n",
    "logger.info(f\"Node names: {node_names}\")"
   ]
  },
  {
   "cell_type": "code",
   "execution_count": 36,
   "metadata": {},
   "outputs": [
    {
     "data": {
      "image/png": "[encoded data removed]",
      "text/plain": [
       "<Figure size 1080x576 with 1 Axes>"
      ]
     },
     "metadata": {
      "needs_background": "light"
     },
     "output_type": "display_data"
    }
   ],
   "source": [
    "import seaborn as sns\n",
    "import pandas as pd\n",
    "import matplotlib.pyplot as plt\n",
    "\n",
    "# Node names\n",
    "node_names = ['eyeL_x', 'eyeL_y', 'eyeR_x', 'eyeR_y', 'abdomen_x', 'abdomen_y', 'forelegL_x', 'forelegL_y', 'forelegR_x', 'forelegR_y', 'midlegL_x',\n",
    "              'midlegL_y', 'midlegR_x', 'midlegR_y', 'hindlegL_x', 'hindlegL_y', 'hindlegR_x', 'hindlegR_y', 'wingL_x', 'wingL_y', 'wingR_x', 'wingR_y', 'proboscis_x', 'proboscis_y']\n",
    "\n",
    "# Prepare data for seaborn\n",
    "data = []\n",
    "for behavior, powers in average_total_power_per_node.items():\n",
    "    for node_name, power in zip(node_names, powers.flatten()):\n",
    "        data.append([behavior, node_name, power])\n",
    "\n",
    "df = pd.DataFrame(data, columns=[\"Behavior\", \"Node\", \"Average Power\"])\n",
    "\n",
    "# Plot\n",
    "plt.figure(figsize=(15, 8))\n",
    "sns.barplot(data=df, x=\"Node\", y=\"Average Power\", hue=\"Behavior\")\n",
    "plt.title('Average Power per Behavior per Node')\n",
    "plt.ylabel('Average Power')\n",
    "plt.xlabel('Node')\n",
    "plt.xticks(rotation=90)\n",
    "plt.tight_layout()\n",
    "plt.savefig('power_per_behavior_per_node.png')\n",
    "plt.show()\n"
   ]
  },
  {
   "cell_type": "code",
   "execution_count": null,
   "metadata": {},
   "outputs": [],
   "source": []
  }
 ],
 "metadata": {
  "kernelspec": {
   "display_name": "sleap_dev",
   "language": "python",
   "name": "python3"
  },
  "language_info": {
   "codemirror_mode": {
    "name": "ipython",
    "version": 3
   },
   "file_extension": ".py",
   "mimetype": "text/x-python",
   "name": "python",
   "nbconvert_exporter": "python",
   "pygments_lexer": "ipython3",
   "version": "3.7.11"
  },
  "orig_nbformat": 4
 },
 "nbformat": 4,
 "nbformat_minor": 2
}

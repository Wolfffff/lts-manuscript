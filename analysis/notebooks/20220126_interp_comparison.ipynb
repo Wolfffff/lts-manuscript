{
 "cells": [
  {
   "cell_type": "code",
   "execution_count": 175,
   "metadata": {},
   "outputs": [],
   "source": [
    "from collections import defaultdict\n",
    "\n",
    "import dill\n",
    "import h5py\n",
    "import matplotlib as mpl\n",
    "import matplotlib.pyplot as plt\n",
    "import matplotlib.style\n",
    "import numpy as np\n",
    "import pandas as pd\n",
    "import seaborn as sns\n",
    "from tqdm import tqdm\n",
    "\n",
    "mpl.rcParams[\"figure.facecolor\"] = \"w\"\n",
    "mpl.rcParams[\"figure.dpi\"] = 150\n",
    "mpl.rcParams[\"savefig.dpi\"] = 600\n",
    "mpl.rcParams[\"savefig.transparent\"] = True\n",
    "mpl.rcParams[\"font.size\"] = 15\n",
    "mpl.rcParams[\"font.family\"] = \"sans-serif\"\n",
    "mpl.rcParams[\"font.sans-serif\"] = [\"Arial\", \"DejaVu Sans\"]\n",
    "mpl.rcParams[\"axes.titlesize\"] = \"xx-large\"  # medium, large, x-large, xx-large\n",
    "\n",
    "mpl.style.use(\"seaborn-deep\")\n",
    "\n",
    "from itertools import groupby\n",
    "\n",
    "\n",
    "def encode_list(s_list):\n",
    "    return [[len(list(group)), key[0]] for key, group in groupby(s_list)]\n",
    "\n",
    "\n",
    "import sys\n",
    "\n",
    "sys.path.append(\"../\")\n",
    "import analysis.utils.trx_utils as trx_utils\n",
    "\n",
    "filename = \"/Genomics/ayroleslab2/scott/long-timescale-behavior/data/organized_tracks/20220217-lts-cam1/cam1_20220217_0through190_cam1_20220217_0through190_1-tracked.analysis.h5\"\n",
    "import h5py\n",
    "import numpy as np\n",
    "\n",
    "with h5py.File(filename, \"r\") as f:\n",
    "    dset_names = list(f.keys())\n",
    "    node_names = [n.decode() for n in f[\"node_names\"][:]]"
   ]
  },
  {
   "cell_type": "code",
   "execution_count": 176,
   "metadata": {},
   "outputs": [],
   "source": [
    "z_vals_file = \"/Genomics/ayroleslab2/scott/git/lts-manuscript/analysis/20230118-mmpy-lts-day1-headprobinterp-missingness-pchip5-fillnanmedian-tss64k-tsp32k-removegt6missing/TSNE/20230119_sigma2_7_minregions20_zVals_wShed_groups_finalsave.mat\"\n",
    "f = h5py.File(z_vals_file, \"r\")\n",
    "z_val_names_dset = f[\"zValNames\"]\n",
    "references = [\n",
    "    f[z_val_names_dset[dset_idx][0]] for dset_idx in range(z_val_names_dset.shape[0])\n",
    "]\n",
    "z_val_names = [\"\".join(chr(i) for i in obj[:]) for obj in references]\n",
    "z_lens = [l[0] for l in f[\"zValLens\"][:]]\n",
    "\n",
    "d = {}\n",
    "for z_val_name_idx in range(len(z_val_names)):\n",
    "    d[z_val_names[z_val_name_idx]] = [\n",
    "        np.sum(z_lens[:(z_val_name_idx)]),\n",
    "        np.sum(z_lens[: (z_val_name_idx + 1)]),\n",
    "    ]\n",
    "d[z_val_names[0]][0] = 0"
   ]
  },
  {
   "cell_type": "code",
   "execution_count": 191,
   "metadata": {},
   "outputs": [],
   "source": [
    "FOCAL_REGIONS_DICT = {\n",
    "    \"foreleg_grooming\": 2,\n",
    "    \"locomotion\": 7,\n",
    "    \"hindleg_grooming\": 18,\n",
    "}\n",
    "\n",
    "f = h5py.File(z_vals_file, \"r\")\n",
    "groups_dict = {}\n",
    "dset = f[\"groups\"]\n",
    "for name, idx in FOCAL_REGIONS_DICT.items():\n",
    "    ref_group = f[dset[0][idx]]\n",
    "    groups_dict[name] = ref_group[:][\n",
    "        :,\n",
    "        np.where(\n",
    "            ref_group[0, :]\n",
    "            == z_val_names.index(\"20220217-lts-cam2_day1_24hourvars-0-pcaModes\")\n",
    "        )[0],\n",
    "    ]"
   ]
  },
  {
   "cell_type": "code",
   "execution_count": 192,
   "metadata": {},
   "outputs": [
    {
     "name": "stdout",
     "output_type": "stream",
     "text": [
      "<KeysViewHDF5 ['tracks', 'vels']>\n"
     ]
    }
   ],
   "source": [
    "source_file = \"/Genomics/ayroleslab2/scott/git/lts-manuscript/analysis/20220217-lts-cam1_day1_24hourvars.h5\"\n",
    "import importlib\n",
    "\n",
    "importlib.reload(trx_utils)\n",
    "\n",
    "# videofile = \"/Genomics/ayroleslab2/scott/long-timescale-behavior/data/organized_videos/20220217-lts-cam1/20220217-lts-cam1-0000.mp4\"\n",
    "# min_length = 25\n",
    "# f = h5py.File(\n",
    "#     \"/Genomics/ayroleslab2/scott/git/lts-manuscript/analysis/20230118-mmpy-lts-day1-headprobinterp-missingness-pchip5-fillnanmedian-tss64k-tsp32k-removegt6missing/TSNE/20230119_sigma2_7_minregions20_zVals_wShed_groups_finalsave.mat\"\n",
    "# )\n",
    "\n",
    "with h5py.File(source_file, \"r\") as f:\n",
    "    print(f.keys())\n",
    "    vels = f[\"vels\"][:]\n",
    "    locations = f[\"tracks\"][:].T"
   ]
  },
  {
   "cell_type": "code",
   "execution_count": 218,
   "metadata": {},
   "outputs": [],
   "source": [
    "locations_ego = trx_utils.normalize_to_egocentric(\n",
    "    locations[:, :, :, 0],\n",
    "    ctr_ind=node_names.index(\"thorax\"),\n",
    "    fwd_ind=node_names.index(\"head\"),\n",
    ")"
   ]
  },
  {
   "cell_type": "code",
   "execution_count": 230,
   "metadata": {},
   "outputs": [
    {
     "name": "stdout",
     "output_type": "stream",
     "text": [
      "foreleg_grooming (3, 2225)\n",
      "Number of focal groups: 216\n",
      "locomotion (3, 580)\n",
      "Number of focal groups: 58\n",
      "hindleg_grooming (3, 4656)\n",
      "Number of focal groups: 458\n"
     ]
    }
   ],
   "source": [
    "trimmed_dict = {}\n",
    "for name, group in groups_dict.items():\n",
    "    print(name, group.shape)\n",
    "    lengths = group[2, :] - group[1, :]\n",
    "    cutoff = np.quantile(lengths, 0.90)\n",
    "    focal_groups = np.where(lengths > cutoff)[0]\n",
    "    trimmed_dict[name] = group[:, focal_groups]\n",
    "    np.random.shuffle(trimmed_dict[name].T)\n",
    "    print(f\"Number of focal groups: {len(focal_groups)}\")"
   ]
  },
  {
   "cell_type": "code",
   "execution_count": 232,
   "metadata": {},
   "outputs": [
    {
     "name": "stderr",
     "output_type": "stream",
     "text": [
      "14:37:28 ERROR: Error interpolating: `x` must contain at least 2 elements.\n",
      "14:37:47 ERROR: Error interpolating: `x` must contain at least 2 elements.\n"
     ]
    },
    {
     "ename": "KeyboardInterrupt",
     "evalue": "",
     "output_type": "error",
     "traceback": [
      "\u001b[0;31m---------------------------------------------------------------------------\u001b[0m",
      "\u001b[0;31mAttributeError\u001b[0m                            Traceback (most recent call last)",
      "\u001b[0;32m~/.conda/envs/sleap_dev/lib/python3.7/site-packages/PIL/ImageFile.py\u001b[0m in \u001b[0;36m_save\u001b[0;34m(im, fp, tile, bufsize)\u001b[0m\n\u001b[1;32m    503\u001b[0m     \u001b[0;32mtry\u001b[0m\u001b[0;34m:\u001b[0m\u001b[0;34m\u001b[0m\u001b[0;34m\u001b[0m\u001b[0m\n\u001b[0;32m--> 504\u001b[0;31m         \u001b[0mfh\u001b[0m \u001b[0;34m=\u001b[0m \u001b[0mfp\u001b[0m\u001b[0;34m.\u001b[0m\u001b[0mfileno\u001b[0m\u001b[0;34m(\u001b[0m\u001b[0;34m)\u001b[0m\u001b[0;34m\u001b[0m\u001b[0;34m\u001b[0m\u001b[0m\n\u001b[0m\u001b[1;32m    505\u001b[0m         \u001b[0mfp\u001b[0m\u001b[0;34m.\u001b[0m\u001b[0mflush\u001b[0m\u001b[0;34m(\u001b[0m\u001b[0;34m)\u001b[0m\u001b[0;34m\u001b[0m\u001b[0;34m\u001b[0m\u001b[0m\n",
      "\u001b[0;31mAttributeError\u001b[0m: '_idat' object has no attribute 'fileno'",
      "\nDuring handling of the above exception, another exception occurred:\n",
      "\u001b[0;31mKeyboardInterrupt\u001b[0m                         Traceback (most recent call last)",
      "\u001b[0;32m/tmp/ipykernel_2295092/2591520633.py\u001b[0m in \u001b[0;36m<module>\u001b[0;34m\u001b[0m\n\u001b[1;32m     54\u001b[0m                 \u001b[0mplt\u001b[0m\u001b[0;34m.\u001b[0m\u001b[0mclose\u001b[0m\u001b[0;34m(\u001b[0m\u001b[0;34m)\u001b[0m\u001b[0;34m\u001b[0m\u001b[0;34m\u001b[0m\u001b[0m\n\u001b[1;32m     55\u001b[0m \u001b[0;34m\u001b[0m\u001b[0m\n\u001b[0;32m---> 56\u001b[0;31m \u001b[0mplot_focal_coordinates_from_group\u001b[0m\u001b[0;34m(\u001b[0m\u001b[0mtrimmed_dict\u001b[0m\u001b[0;34m,\u001b[0m\u001b[0mlocations_ego\u001b[0m\u001b[0;34m)\u001b[0m\u001b[0;34m\u001b[0m\u001b[0;34m\u001b[0m\u001b[0m\n\u001b[0m",
      "\u001b[0;32m/tmp/ipykernel_2295092/2591520633.py\u001b[0m in \u001b[0;36mplot_focal_coordinates_from_group\u001b[0;34m(info, locations)\u001b[0m\n\u001b[1;32m     51\u001b[0m                 \u001b[0moutput_path\u001b[0m \u001b[0;34m=\u001b[0m \u001b[0mbase_figure_path\u001b[0m \u001b[0;34m/\u001b[0m \u001b[0;34mf\"examples/{name}/\"\u001b[0m\u001b[0;34m\u001b[0m\u001b[0;34m\u001b[0m\u001b[0m\n\u001b[1;32m     52\u001b[0m                 \u001b[0moutput_path\u001b[0m\u001b[0;34m.\u001b[0m\u001b[0mmkdir\u001b[0m\u001b[0;34m(\u001b[0m\u001b[0mexist_ok\u001b[0m\u001b[0;34m=\u001b[0m\u001b[0;32mTrue\u001b[0m\u001b[0;34m,\u001b[0m\u001b[0mparents\u001b[0m\u001b[0;34m=\u001b[0m\u001b[0;32mTrue\u001b[0m\u001b[0;34m)\u001b[0m\u001b[0;34m\u001b[0m\u001b[0;34m\u001b[0m\u001b[0m\n\u001b[0;32m---> 53\u001b[0;31m                 \u001b[0mplt\u001b[0m\u001b[0;34m.\u001b[0m\u001b[0msavefig\u001b[0m\u001b[0;34m(\u001b[0m\u001b[0moutput_path\u001b[0m \u001b[0;34m/\u001b[0m \u001b[0;34mf\"example-fly0-{i:04d}.png\"\u001b[0m\u001b[0;34m,\u001b[0m \u001b[0mtransparent\u001b[0m\u001b[0;34m=\u001b[0m\u001b[0;32mFalse\u001b[0m\u001b[0;34m,\u001b[0m \u001b[0mdpi\u001b[0m\u001b[0;34m=\u001b[0m\u001b[0;36m300\u001b[0m\u001b[0;34m)\u001b[0m\u001b[0;34m\u001b[0m\u001b[0;34m\u001b[0m\u001b[0m\n\u001b[0m\u001b[1;32m     54\u001b[0m                 \u001b[0mplt\u001b[0m\u001b[0;34m.\u001b[0m\u001b[0mclose\u001b[0m\u001b[0;34m(\u001b[0m\u001b[0;34m)\u001b[0m\u001b[0;34m\u001b[0m\u001b[0;34m\u001b[0m\u001b[0m\n\u001b[1;32m     55\u001b[0m \u001b[0;34m\u001b[0m\u001b[0m\n",
      "\u001b[0;32m~/.conda/envs/sleap_dev/lib/python3.7/site-packages/matplotlib/pyplot.py\u001b[0m in \u001b[0;36msavefig\u001b[0;34m(*args, **kwargs)\u001b[0m\n\u001b[1;32m    956\u001b[0m \u001b[0;32mdef\u001b[0m \u001b[0msavefig\u001b[0m\u001b[0;34m(\u001b[0m\u001b[0;34m*\u001b[0m\u001b[0margs\u001b[0m\u001b[0;34m,\u001b[0m \u001b[0;34m**\u001b[0m\u001b[0mkwargs\u001b[0m\u001b[0;34m)\u001b[0m\u001b[0;34m:\u001b[0m\u001b[0;34m\u001b[0m\u001b[0;34m\u001b[0m\u001b[0m\n\u001b[1;32m    957\u001b[0m     \u001b[0mfig\u001b[0m \u001b[0;34m=\u001b[0m \u001b[0mgcf\u001b[0m\u001b[0;34m(\u001b[0m\u001b[0;34m)\u001b[0m\u001b[0;34m\u001b[0m\u001b[0;34m\u001b[0m\u001b[0m\n\u001b[0;32m--> 958\u001b[0;31m     \u001b[0mres\u001b[0m \u001b[0;34m=\u001b[0m \u001b[0mfig\u001b[0m\u001b[0;34m.\u001b[0m\u001b[0msavefig\u001b[0m\u001b[0;34m(\u001b[0m\u001b[0;34m*\u001b[0m\u001b[0margs\u001b[0m\u001b[0;34m,\u001b[0m \u001b[0;34m**\u001b[0m\u001b[0mkwargs\u001b[0m\u001b[0;34m)\u001b[0m\u001b[0;34m\u001b[0m\u001b[0;34m\u001b[0m\u001b[0m\n\u001b[0m\u001b[1;32m    959\u001b[0m     \u001b[0mfig\u001b[0m\u001b[0;34m.\u001b[0m\u001b[0mcanvas\u001b[0m\u001b[0;34m.\u001b[0m\u001b[0mdraw_idle\u001b[0m\u001b[0;34m(\u001b[0m\u001b[0;34m)\u001b[0m   \u001b[0;31m# need this if 'transparent=True' to reset colors\u001b[0m\u001b[0;34m\u001b[0m\u001b[0;34m\u001b[0m\u001b[0m\n\u001b[1;32m    960\u001b[0m     \u001b[0;32mreturn\u001b[0m \u001b[0mres\u001b[0m\u001b[0;34m\u001b[0m\u001b[0;34m\u001b[0m\u001b[0m\n",
      "\u001b[0;32m~/.conda/envs/sleap_dev/lib/python3.7/site-packages/matplotlib/figure.py\u001b[0m in \u001b[0;36msavefig\u001b[0;34m(self, fname, transparent, **kwargs)\u001b[0m\n\u001b[1;32m   3017\u001b[0m                         ax.patch._cm_set(facecolor='none', edgecolor='none'))\n\u001b[1;32m   3018\u001b[0m \u001b[0;34m\u001b[0m\u001b[0m\n\u001b[0;32m-> 3019\u001b[0;31m             \u001b[0mself\u001b[0m\u001b[0;34m.\u001b[0m\u001b[0mcanvas\u001b[0m\u001b[0;34m.\u001b[0m\u001b[0mprint_figure\u001b[0m\u001b[0;34m(\u001b[0m\u001b[0mfname\u001b[0m\u001b[0;34m,\u001b[0m \u001b[0;34m**\u001b[0m\u001b[0mkwargs\u001b[0m\u001b[0;34m)\u001b[0m\u001b[0;34m\u001b[0m\u001b[0;34m\u001b[0m\u001b[0m\n\u001b[0m\u001b[1;32m   3020\u001b[0m \u001b[0;34m\u001b[0m\u001b[0m\n\u001b[1;32m   3021\u001b[0m     def ginput(self, n=1, timeout=30, show_clicks=True,\n",
      "\u001b[0;32m~/.conda/envs/sleap_dev/lib/python3.7/site-packages/matplotlib/backend_bases.py\u001b[0m in \u001b[0;36mprint_figure\u001b[0;34m(self, filename, dpi, facecolor, edgecolor, orientation, format, bbox_inches, pad_inches, bbox_extra_artists, backend, **kwargs)\u001b[0m\n\u001b[1;32m   2323\u001b[0m                         \u001b[0morientation\u001b[0m\u001b[0;34m=\u001b[0m\u001b[0morientation\u001b[0m\u001b[0;34m,\u001b[0m\u001b[0;34m\u001b[0m\u001b[0;34m\u001b[0m\u001b[0m\n\u001b[1;32m   2324\u001b[0m                         \u001b[0mbbox_inches_restore\u001b[0m\u001b[0;34m=\u001b[0m\u001b[0m_bbox_inches_restore\u001b[0m\u001b[0;34m,\u001b[0m\u001b[0;34m\u001b[0m\u001b[0;34m\u001b[0m\u001b[0m\n\u001b[0;32m-> 2325\u001b[0;31m                         **kwargs)\n\u001b[0m\u001b[1;32m   2326\u001b[0m             \u001b[0;32mfinally\u001b[0m\u001b[0;34m:\u001b[0m\u001b[0;34m\u001b[0m\u001b[0;34m\u001b[0m\u001b[0m\n\u001b[1;32m   2327\u001b[0m                 \u001b[0;32mif\u001b[0m \u001b[0mbbox_inches\u001b[0m \u001b[0;32mand\u001b[0m \u001b[0mrestore_bbox\u001b[0m\u001b[0;34m:\u001b[0m\u001b[0;34m\u001b[0m\u001b[0;34m\u001b[0m\u001b[0m\n",
      "\u001b[0;32m~/.conda/envs/sleap_dev/lib/python3.7/site-packages/matplotlib/backend_bases.py\u001b[0m in \u001b[0;36mwrapper\u001b[0;34m(*args, **kwargs)\u001b[0m\n\u001b[1;32m   1646\u001b[0m             \u001b[0mkwargs\u001b[0m\u001b[0;34m.\u001b[0m\u001b[0mpop\u001b[0m\u001b[0;34m(\u001b[0m\u001b[0marg\u001b[0m\u001b[0;34m)\u001b[0m\u001b[0;34m\u001b[0m\u001b[0;34m\u001b[0m\u001b[0m\n\u001b[1;32m   1647\u001b[0m \u001b[0;34m\u001b[0m\u001b[0m\n\u001b[0;32m-> 1648\u001b[0;31m         \u001b[0;32mreturn\u001b[0m \u001b[0mfunc\u001b[0m\u001b[0;34m(\u001b[0m\u001b[0;34m*\u001b[0m\u001b[0margs\u001b[0m\u001b[0;34m,\u001b[0m \u001b[0;34m**\u001b[0m\u001b[0mkwargs\u001b[0m\u001b[0;34m)\u001b[0m\u001b[0;34m\u001b[0m\u001b[0;34m\u001b[0m\u001b[0m\n\u001b[0m\u001b[1;32m   1649\u001b[0m \u001b[0;34m\u001b[0m\u001b[0m\n\u001b[1;32m   1650\u001b[0m     \u001b[0;32mreturn\u001b[0m \u001b[0mwrapper\u001b[0m\u001b[0;34m\u001b[0m\u001b[0;34m\u001b[0m\u001b[0m\n",
      "\u001b[0;32m~/.conda/envs/sleap_dev/lib/python3.7/site-packages/matplotlib/_api/deprecation.py\u001b[0m in \u001b[0;36mwrapper\u001b[0;34m(*inner_args, **inner_kwargs)\u001b[0m\n\u001b[1;32m    410\u001b[0m                          \u001b[0;32melse\u001b[0m \u001b[0mdeprecation_addendum\u001b[0m\u001b[0;34m,\u001b[0m\u001b[0;34m\u001b[0m\u001b[0;34m\u001b[0m\u001b[0m\n\u001b[1;32m    411\u001b[0m                 **kwargs)\n\u001b[0;32m--> 412\u001b[0;31m         \u001b[0;32mreturn\u001b[0m \u001b[0mfunc\u001b[0m\u001b[0;34m(\u001b[0m\u001b[0;34m*\u001b[0m\u001b[0minner_args\u001b[0m\u001b[0;34m,\u001b[0m \u001b[0;34m**\u001b[0m\u001b[0minner_kwargs\u001b[0m\u001b[0;34m)\u001b[0m\u001b[0;34m\u001b[0m\u001b[0;34m\u001b[0m\u001b[0m\n\u001b[0m\u001b[1;32m    413\u001b[0m \u001b[0;34m\u001b[0m\u001b[0m\n\u001b[1;32m    414\u001b[0m     \u001b[0mDECORATORS\u001b[0m\u001b[0;34m[\u001b[0m\u001b[0mwrapper\u001b[0m\u001b[0;34m]\u001b[0m \u001b[0;34m=\u001b[0m \u001b[0mdecorator\u001b[0m\u001b[0;34m\u001b[0m\u001b[0;34m\u001b[0m\u001b[0m\n",
      "\u001b[0;32m~/.conda/envs/sleap_dev/lib/python3.7/site-packages/matplotlib/backends/backend_agg.py\u001b[0m in \u001b[0;36mprint_png\u001b[0;34m(self, filename_or_obj, metadata, pil_kwargs, *args)\u001b[0m\n\u001b[1;32m    541\u001b[0m         mpl.image.imsave(\n\u001b[1;32m    542\u001b[0m             \u001b[0mfilename_or_obj\u001b[0m\u001b[0;34m,\u001b[0m \u001b[0mself\u001b[0m\u001b[0;34m.\u001b[0m\u001b[0mbuffer_rgba\u001b[0m\u001b[0;34m(\u001b[0m\u001b[0;34m)\u001b[0m\u001b[0;34m,\u001b[0m \u001b[0mformat\u001b[0m\u001b[0;34m=\u001b[0m\u001b[0;34m\"png\"\u001b[0m\u001b[0;34m,\u001b[0m \u001b[0morigin\u001b[0m\u001b[0;34m=\u001b[0m\u001b[0;34m\"upper\"\u001b[0m\u001b[0;34m,\u001b[0m\u001b[0;34m\u001b[0m\u001b[0;34m\u001b[0m\u001b[0m\n\u001b[0;32m--> 543\u001b[0;31m             dpi=self.figure.dpi, metadata=metadata, pil_kwargs=pil_kwargs)\n\u001b[0m\u001b[1;32m    544\u001b[0m \u001b[0;34m\u001b[0m\u001b[0m\n\u001b[1;32m    545\u001b[0m     \u001b[0;32mdef\u001b[0m \u001b[0mprint_to_buffer\u001b[0m\u001b[0;34m(\u001b[0m\u001b[0mself\u001b[0m\u001b[0;34m)\u001b[0m\u001b[0;34m:\u001b[0m\u001b[0;34m\u001b[0m\u001b[0;34m\u001b[0m\u001b[0m\n",
      "\u001b[0;32m~/.conda/envs/sleap_dev/lib/python3.7/site-packages/matplotlib/image.py\u001b[0m in \u001b[0;36mimsave\u001b[0;34m(fname, arr, vmin, vmax, cmap, format, origin, dpi, metadata, pil_kwargs)\u001b[0m\n\u001b[1;32m   1673\u001b[0m         \u001b[0mpil_kwargs\u001b[0m\u001b[0;34m.\u001b[0m\u001b[0msetdefault\u001b[0m\u001b[0;34m(\u001b[0m\u001b[0;34m\"format\"\u001b[0m\u001b[0;34m,\u001b[0m \u001b[0mformat\u001b[0m\u001b[0;34m)\u001b[0m\u001b[0;34m\u001b[0m\u001b[0;34m\u001b[0m\u001b[0m\n\u001b[1;32m   1674\u001b[0m         \u001b[0mpil_kwargs\u001b[0m\u001b[0;34m.\u001b[0m\u001b[0msetdefault\u001b[0m\u001b[0;34m(\u001b[0m\u001b[0;34m\"dpi\"\u001b[0m\u001b[0;34m,\u001b[0m \u001b[0;34m(\u001b[0m\u001b[0mdpi\u001b[0m\u001b[0;34m,\u001b[0m \u001b[0mdpi\u001b[0m\u001b[0;34m)\u001b[0m\u001b[0;34m)\u001b[0m\u001b[0;34m\u001b[0m\u001b[0;34m\u001b[0m\u001b[0m\n\u001b[0;32m-> 1675\u001b[0;31m         \u001b[0mimage\u001b[0m\u001b[0;34m.\u001b[0m\u001b[0msave\u001b[0m\u001b[0;34m(\u001b[0m\u001b[0mfname\u001b[0m\u001b[0;34m,\u001b[0m \u001b[0;34m**\u001b[0m\u001b[0mpil_kwargs\u001b[0m\u001b[0;34m)\u001b[0m\u001b[0;34m\u001b[0m\u001b[0;34m\u001b[0m\u001b[0m\n\u001b[0m\u001b[1;32m   1676\u001b[0m \u001b[0;34m\u001b[0m\u001b[0m\n\u001b[1;32m   1677\u001b[0m \u001b[0;34m\u001b[0m\u001b[0m\n",
      "\u001b[0;32m~/.conda/envs/sleap_dev/lib/python3.7/site-packages/PIL/Image.py\u001b[0m in \u001b[0;36msave\u001b[0;34m(self, fp, format, **params)\u001b[0m\n\u001b[1;32m   2238\u001b[0m \u001b[0;34m\u001b[0m\u001b[0m\n\u001b[1;32m   2239\u001b[0m         \u001b[0;32mtry\u001b[0m\u001b[0;34m:\u001b[0m\u001b[0;34m\u001b[0m\u001b[0;34m\u001b[0m\u001b[0m\n\u001b[0;32m-> 2240\u001b[0;31m             \u001b[0msave_handler\u001b[0m\u001b[0;34m(\u001b[0m\u001b[0mself\u001b[0m\u001b[0;34m,\u001b[0m \u001b[0mfp\u001b[0m\u001b[0;34m,\u001b[0m \u001b[0mfilename\u001b[0m\u001b[0;34m)\u001b[0m\u001b[0;34m\u001b[0m\u001b[0;34m\u001b[0m\u001b[0m\n\u001b[0m\u001b[1;32m   2241\u001b[0m         \u001b[0;32mfinally\u001b[0m\u001b[0;34m:\u001b[0m\u001b[0;34m\u001b[0m\u001b[0;34m\u001b[0m\u001b[0m\n\u001b[1;32m   2242\u001b[0m             \u001b[0;31m# do what we can to clean up\u001b[0m\u001b[0;34m\u001b[0m\u001b[0;34m\u001b[0m\u001b[0;34m\u001b[0m\u001b[0m\n",
      "\u001b[0;32m~/.conda/envs/sleap_dev/lib/python3.7/site-packages/PIL/PngImagePlugin.py\u001b[0m in \u001b[0;36m_save\u001b[0;34m(im, fp, filename, chunk, save_all)\u001b[0m\n\u001b[1;32m   1346\u001b[0m         \u001b[0m_write_multiple_frames\u001b[0m\u001b[0;34m(\u001b[0m\u001b[0mim\u001b[0m\u001b[0;34m,\u001b[0m \u001b[0mfp\u001b[0m\u001b[0;34m,\u001b[0m \u001b[0mchunk\u001b[0m\u001b[0;34m,\u001b[0m \u001b[0mrawmode\u001b[0m\u001b[0;34m)\u001b[0m\u001b[0;34m\u001b[0m\u001b[0;34m\u001b[0m\u001b[0m\n\u001b[1;32m   1347\u001b[0m     \u001b[0;32melse\u001b[0m\u001b[0;34m:\u001b[0m\u001b[0;34m\u001b[0m\u001b[0;34m\u001b[0m\u001b[0m\n\u001b[0;32m-> 1348\u001b[0;31m         \u001b[0mImageFile\u001b[0m\u001b[0;34m.\u001b[0m\u001b[0m_save\u001b[0m\u001b[0;34m(\u001b[0m\u001b[0mim\u001b[0m\u001b[0;34m,\u001b[0m \u001b[0m_idat\u001b[0m\u001b[0;34m(\u001b[0m\u001b[0mfp\u001b[0m\u001b[0;34m,\u001b[0m \u001b[0mchunk\u001b[0m\u001b[0;34m)\u001b[0m\u001b[0;34m,\u001b[0m \u001b[0;34m[\u001b[0m\u001b[0;34m(\u001b[0m\u001b[0;34m\"zip\"\u001b[0m\u001b[0;34m,\u001b[0m \u001b[0;34m(\u001b[0m\u001b[0;36m0\u001b[0m\u001b[0;34m,\u001b[0m \u001b[0;36m0\u001b[0m\u001b[0;34m)\u001b[0m \u001b[0;34m+\u001b[0m \u001b[0mim\u001b[0m\u001b[0;34m.\u001b[0m\u001b[0msize\u001b[0m\u001b[0;34m,\u001b[0m \u001b[0;36m0\u001b[0m\u001b[0;34m,\u001b[0m \u001b[0mrawmode\u001b[0m\u001b[0;34m)\u001b[0m\u001b[0;34m]\u001b[0m\u001b[0;34m)\u001b[0m\u001b[0;34m\u001b[0m\u001b[0;34m\u001b[0m\u001b[0m\n\u001b[0m\u001b[1;32m   1349\u001b[0m \u001b[0;34m\u001b[0m\u001b[0m\n\u001b[1;32m   1350\u001b[0m     \u001b[0;32mif\u001b[0m \u001b[0minfo\u001b[0m\u001b[0;34m:\u001b[0m\u001b[0;34m\u001b[0m\u001b[0;34m\u001b[0m\u001b[0m\n",
      "\u001b[0;32m~/.conda/envs/sleap_dev/lib/python3.7/site-packages/PIL/ImageFile.py\u001b[0m in \u001b[0;36m_save\u001b[0;34m(im, fp, tile, bufsize)\u001b[0m\n\u001b[1;32m    516\u001b[0m             \u001b[0;32melse\u001b[0m\u001b[0;34m:\u001b[0m\u001b[0;34m\u001b[0m\u001b[0;34m\u001b[0m\u001b[0m\n\u001b[1;32m    517\u001b[0m                 \u001b[0;32mwhile\u001b[0m \u001b[0;32mTrue\u001b[0m\u001b[0;34m:\u001b[0m\u001b[0;34m\u001b[0m\u001b[0;34m\u001b[0m\u001b[0m\n\u001b[0;32m--> 518\u001b[0;31m                     \u001b[0ml\u001b[0m\u001b[0;34m,\u001b[0m \u001b[0ms\u001b[0m\u001b[0;34m,\u001b[0m \u001b[0md\u001b[0m \u001b[0;34m=\u001b[0m \u001b[0me\u001b[0m\u001b[0;34m.\u001b[0m\u001b[0mencode\u001b[0m\u001b[0;34m(\u001b[0m\u001b[0mbufsize\u001b[0m\u001b[0;34m)\u001b[0m\u001b[0;34m\u001b[0m\u001b[0;34m\u001b[0m\u001b[0m\n\u001b[0m\u001b[1;32m    519\u001b[0m                     \u001b[0mfp\u001b[0m\u001b[0;34m.\u001b[0m\u001b[0mwrite\u001b[0m\u001b[0;34m(\u001b[0m\u001b[0md\u001b[0m\u001b[0;34m)\u001b[0m\u001b[0;34m\u001b[0m\u001b[0;34m\u001b[0m\u001b[0m\n\u001b[1;32m    520\u001b[0m                     \u001b[0;32mif\u001b[0m \u001b[0ms\u001b[0m\u001b[0;34m:\u001b[0m\u001b[0;34m\u001b[0m\u001b[0;34m\u001b[0m\u001b[0m\n",
      "\u001b[0;31mKeyboardInterrupt\u001b[0m: "
     ]
    }
   ],
   "source": [
    "%%capture\n",
    "import pathlib\n",
    "import time\n",
    "\n",
    "base_figure_path = pathlib.Path(\"figures/\")\n",
    "base_figure_path.mkdir(exist_ok=True, parents=True)\n",
    "\n",
    "name_node_map = {\n",
    "    \"foreleg_grooming\": [\"forelegL\"],\n",
    "    \"locomotion\": [\"midlegL\"],\n",
    "    \"hindleg_grooming\": [\"hindlegL\"],\n",
    "}\n",
    "\n",
    "color_map = {\"None\": \"red\", \"linear\": \"blue\", \"pchip\": \"green\"}\n",
    "\n",
    "WIN_SIZE = 10\n",
    "\n",
    "\n",
    "def plot_focal_coordinates_from_group(info, locations):\n",
    "    for name, group in info.items():\n",
    "        print(name, group.shape)\n",
    "        for i in range(group.shape[1]):\n",
    "            start = group[1, i]\n",
    "            end = group[2, i]\n",
    "            print(f\"Plotting {name} {i} from {start} to {end} ({end-start} frames)\")\n",
    "            fig, ax = plt.subplots(2, 1, figsize=(12, 8))\n",
    "            print(\"Created subplots...\")\n",
    "            for interp_method in [\"None\", \"linear\", \"pchip\"]:\n",
    "                tmp_locations = locations[start:end, :, :].copy()\n",
    "                if interp_method != \"None\":\n",
    "                    mask = np.arange(tmp_locations.shape[0])\n",
    "                    mask = mask[\n",
    "                        ((len(mask) // 2) - (WIN_SIZE // 2)) : (\n",
    "                            (len(mask) // 2) + (WIN_SIZE // 2)\n",
    "                        )\n",
    "                    ]\n",
    "                    tmp_locations[mask, :, :] = np.nan\n",
    "                    tmp_locations = trx_utils.fill_missing(\n",
    "                        tmp_locations, kind=interp_method\n",
    "                    )\n",
    "                if interp_method == \"None\":\n",
    "                    lt = \"solid\"\n",
    "                else:\n",
    "                    lt = \"--\"\n",
    "                for node in name_node_map[name]:\n",
    "                    ax[0].plot(\n",
    "                        tmp_locations[:, node_names.index(node), 0],\n",
    "                        label=interp_method,\n",
    "                        color=color_map[interp_method],\n",
    "                        alpha=0.5,\n",
    "                        linewidth=2,\n",
    "                        linestyle=lt,\n",
    "                    )\n",
    "                    ax[1].plot(\n",
    "                        tmp_locations[:, node_names.index(node), 1],\n",
    "                        label=interp_method,\n",
    "                        color=color_map[interp_method],\n",
    "                        alpha=0.5,\n",
    "                        linewidth=2,\n",
    "                        linestyle=lt,\n",
    "                    )\n",
    "            ax[0].set_ylim(-100, 100)\n",
    "            ax[0].set_ylabel(\"x coordinate (px)\")\n",
    "            ax[1].set_ylim(-50, 50)\n",
    "            ax[1].set_xlabel(\"frame\")\n",
    "            ax[1].set_ylabel(\"y coordinate (px)\")\n",
    "            ax[0].axvline(\n",
    "                x=((tmp_locations.shape[0] // 2) - (WIN_SIZE // 2)),\n",
    "                color=\"black\",\n",
    "                alpha=0.5,\n",
    "                linewidth=2,\n",
    "                linestyle=\"--\",\n",
    "            )\n",
    "            ax[0].axvline(\n",
    "                x=(tmp_locations.shape[0] // 2) + (WIN_SIZE // 2),\n",
    "                color=\"black\",\n",
    "                alpha=0.5,\n",
    "                linewidth=2,\n",
    "                linestyle=\"--\",\n",
    "            )\n",
    "            ax[1].axvline(\n",
    "                x=((tmp_locations.shape[0] // 2) - (WIN_SIZE // 2)),\n",
    "                color=\"black\",\n",
    "                alpha=0.5,\n",
    "                linewidth=2,\n",
    "                linestyle=\"--\",\n",
    "            )\n",
    "            ax[1].axvline(\n",
    "                x=(tmp_locations.shape[0] // 2) + (WIN_SIZE // 2),\n",
    "                color=\"black\",\n",
    "                alpha=0.5,\n",
    "                linewidth=2,\n",
    "                linestyle=\"--\",\n",
    "            )\n",
    "            plt.legend()\n",
    "            fig.suptitle(\n",
    "                f\"{name} {i} from {start} to {end} ({end-start} frames)\", fontsize=12\n",
    "            )\n",
    "            print(\"Saving figure...\")\n",
    "            output_path = base_figure_path / f\"examples/{name}/\"\n",
    "            output_path.mkdir(exist_ok=True, parents=True)\n",
    "            plt.savefig(\n",
    "                output_path / f\"example-fly0-{i:04d}.png\", transparent=False, dpi=300\n",
    "            )\n",
    "            plt.close()\n",
    "\n",
    "\n",
    "plot_focal_coordinates_from_group(trimmed_dict, locations_ego)"
   ]
  },
  {
   "cell_type": "code",
   "execution_count": null,
   "metadata": {},
   "outputs": [
    {
     "name": "stdout",
     "output_type": "stream",
     "text": [
      "(4, 14, 8636544)\n"
     ]
    },
    {
     "name": "stderr",
     "output_type": "stream",
     "text": [
      "100%|██████████| 4/4 [08:05<00:00, 121.36s/it]\n",
      "  0%|          | 0/4 [00:00<?, ?it/s]"
     ]
    },
    {
     "name": "stdout",
     "output_type": "stream",
     "text": [
      "0,0 completed with 3 examples\n",
      "0,1 completed with 0 examples\n",
      "0,2 completed with 0 examples\n",
      "0,3 completed with 0 examples\n",
      "0,4 completed with 0 examples\n",
      "0,5 completed with 0 examples\n",
      "0,6 completed with 0 examples\n",
      "0,7 completed with 0 examples\n",
      "0,8 completed with 0 examples\n"
     ]
    },
    {
     "name": "stderr",
     "output_type": "stream",
     "text": [
      "/Genomics/argo/users/swwolf/.conda/envs/sleap_dev/lib/python3.7/site-packages/numpy/core/fromnumeric.py:3420: RuntimeWarning: Mean of empty slice.\n",
      "  out=out, **kwargs)\n",
      "/Genomics/argo/users/swwolf/.conda/envs/sleap_dev/lib/python3.7/site-packages/numpy/core/_methods.py:188: RuntimeWarning: invalid value encountered in double_scalars\n",
      "  ret = ret.dtype.type(ret / rcount)\n"
     ]
    },
    {
     "name": "stdout",
     "output_type": "stream",
     "text": [
      "0,9 completed with 3 examples\n",
      "0,10 completed with 0 examples\n"
     ]
    },
    {
     "name": "stderr",
     "output_type": "stream",
     "text": [
      " 25%|██▌       | 1/4 [00:08<00:25,  8.62s/it]"
     ]
    },
    {
     "name": "stdout",
     "output_type": "stream",
     "text": [
      "0,11 completed with 4 examples\n",
      "0,12 completed with 0 examples\n",
      "0,13 completed with 4 examples\n",
      "0,14 completed with 0 examples\n",
      "0,15 completed with 0 examples\n",
      "0,16 completed with 0 examples\n",
      "0,17 completed with 0 examples\n",
      "0,18 completed with 0 examples\n",
      "0,19 completed with 0 examples\n",
      "0,20 completed with 0 examples\n",
      "1,0 completed with 4 examples\n",
      "1,1 completed with 0 examples\n",
      "1,2 completed with 0 examples\n",
      "1,3 completed with 0 examples\n",
      "1,4 completed with 0 examples\n",
      "1,5 completed with 0 examples\n",
      "1,6 completed with 0 examples\n",
      "1,7 completed with 0 examples\n",
      "1,8 completed with 0 examples\n",
      "1,9 completed with 0 examples\n",
      "1,10 completed with 0 examples\n",
      "1,11 completed with 0 examples\n",
      "1,12 completed with 6 examples\n"
     ]
    },
    {
     "name": "stderr",
     "output_type": "stream",
     "text": [
      " 50%|█████     | 2/4 [00:15<00:15,  7.87s/it]"
     ]
    },
    {
     "name": "stdout",
     "output_type": "stream",
     "text": [
      "1,13 completed with 4 examples\n",
      "1,14 completed with 0 examples\n",
      "1,15 completed with 0 examples\n",
      "1,16 completed with 0 examples\n",
      "1,17 completed with 0 examples\n",
      "1,18 completed with 0 examples\n",
      "1,19 completed with 0 examples\n",
      "1,20 completed with 0 examples\n",
      "2,0 completed with 3 examples\n",
      "2,1 completed with 0 examples\n",
      "2,2 completed with 0 examples\n",
      "2,3 completed with 0 examples\n",
      "2,4 completed with 0 examples\n",
      "2,5 completed with 0 examples\n",
      "2,6 completed with 0 examples\n",
      "2,7 completed with 0 examples\n",
      "2,8 completed with 0 examples\n",
      "2,9 completed with 6 examples\n",
      "2,10 completed with 0 examples\n",
      "2,11 completed with 2 examples\n",
      "2,12 completed with 0 examples\n"
     ]
    },
    {
     "name": "stderr",
     "output_type": "stream",
     "text": [
      " 75%|███████▌  | 3/4 [00:23<00:07,  7.63s/it]"
     ]
    },
    {
     "name": "stdout",
     "output_type": "stream",
     "text": [
      "2,13 completed with 3 examples\n",
      "2,14 completed with 0 examples\n",
      "2,15 completed with 0 examples\n",
      "2,16 completed with 0 examples\n",
      "2,17 completed with 0 examples\n",
      "2,18 completed with 0 examples\n",
      "2,19 completed with 0 examples\n",
      "2,20 completed with 0 examples\n",
      "3,0 completed with 5 examples\n",
      "3,1 completed with 0 examples\n",
      "3,2 completed with 0 examples\n",
      "3,3 completed with 0 examples\n",
      "3,4 completed with 0 examples\n",
      "3,5 completed with 0 examples\n",
      "3,6 completed with 0 examples\n",
      "3,7 completed with 0 examples\n",
      "3,8 completed with 0 examples\n"
     ]
    },
    {
     "name": "stderr",
     "output_type": "stream",
     "text": [
      "100%|██████████| 4/4 [00:30<00:00,  7.62s/it]"
     ]
    },
    {
     "name": "stdout",
     "output_type": "stream",
     "text": [
      "3,9 completed with 3 examples\n",
      "3,10 completed with 0 examples\n",
      "3,11 completed with 0 examples\n",
      "3,12 completed with 0 examples\n",
      "3,13 completed with 6 examples\n",
      "3,14 completed with 0 examples\n",
      "3,15 completed with 0 examples\n",
      "3,16 completed with 0 examples\n",
      "3,17 completed with 0 examples\n",
      "3,18 completed with 0 examples\n",
      "3,19 completed with 0 examples\n",
      "3,20 completed with 0 examples\n"
     ]
    },
    {
     "name": "stderr",
     "output_type": "stream",
     "text": [
      "\n"
     ]
    }
   ],
   "source": [
    "running_list = defaultdict(lambda: defaultdict(dict))\n",
    "for fly_idx in tqdm(range(4)):\n",
    "    fly_id_mm = fly_idx\n",
    "    fly_id_trx = fly_idx\n",
    "    rle_list = encode_list(\n",
    "        f[\"watershedRegions\"][\n",
    "            d[f\"20220217-lts-cam1_day1_24hourvars-{fly_id_mm}-pcaModes\"][0] : d[\n",
    "                f\"20220217-lts-cam1_day1_24hourvars-{fly_id_mm}-pcaModes\"\n",
    "            ][1]\n",
    "        ]\n",
    "    )\n",
    "    dict_rle = {\"number\": [p[1] for p in rle_list], \"length\": [p[0] for p in rle_list]}\n",
    "    df = pd.DataFrame(dict_rle)\n",
    "    # Get the endasd\n",
    "\n",
    "    df[\"end\"] = np.cumsum(df.length)\n",
    "    # Get the start\n",
    "    df[\"start\"] = df[\"end\"] - df.length\n",
    "\n",
    "    for region in range(0, np.unique(f[\"watershedRegions\"][:]).shape[0]):\n",
    "        running_list[fly_idx][region] = list()\n",
    "        try:\n",
    "            subset = df[(df.number == region)]\n",
    "            for section in subset.iterrows():\n",
    "                start = section[1][\"start\"]\n",
    "                try:\n",
    "                    running_list[fly_idx][region].extend(\n",
    "                        vels[fly_idx, start:end].tolist()\n",
    "                    )\n",
    "                except:\n",
    "                    print(f\"Failed to append {start},{end}\")\n",
    "        except:\n",
    "            print(f\"Failed to find velocities in {region}\")\n",
    "output = pd.DataFrame(columns=[\"fly_idx\", \"region\", \"mean_velocity\"])\n",
    "for idx in tqdm(range(len(running_list))):\n",
    "    for region in range(len(running_list[idx])):\n",
    "        output.loc[len(output.index)] = [\n",
    "            idx,\n",
    "            region,\n",
    "            np.mean(running_list[idx][region]),\n",
    "        ]\n",
    "        print(\n",
    "            f\"{idx},{region} completed with {len(running_list[idx][region])} examples\"\n",
    "        )"
   ]
  },
  {
   "cell_type": "code",
   "execution_count": null,
   "metadata": {},
   "outputs": [],
   "source": []
  },
  {
   "cell_type": "code",
   "execution_count": null,
   "metadata": {},
   "outputs": [],
   "source": [
    "# output.to_csv(\"wtf.csv\")\n",
    "\n",
    "# import numpy as np\n",
    "# import pandas as pd\n",
    "# import statsmodels.api as sm\n",
    "# import statsmodels.formula.api as smf\n",
    "# from statsmodels.tools.sm_exceptions import ConvergenceWarning\n",
    "\n",
    "# cleaned_output = output[~np.isnan(output[\"mean_velocity\"])]\n",
    "# # md = smf.mixedlm(\"mean_velocity ~ 1 + fly_idx \", cleaned_output, groups=cleaned_output['region'])\n",
    "# # mdf = md.fit(method=[\"lbfgs\"])\n",
    "# model = smf.ols(formula=\"mean_velocity ~ C(region)\", data=cleaned_output)\n",
    "# model_fit = model.fit()\n",
    "# print(model_fit.summary())\n",
    "# # anova_table = sm.stats.anova_lm(model_fit, typ=2)\n",
    "# # print(anova_table)\n",
    "\n",
    "# plt.figure()\n",
    "# cleaned_output.groupby(\"region\").mean()[\"mean_velocity\"].plot(kind=\"bar\")\n",
    "# plt.savefig(\"test.png\")"
   ]
  },
  {
   "cell_type": "code",
   "execution_count": null,
   "metadata": {},
   "outputs": [],
   "source": [
    "f = h5py.File(\n",
    "    \"/Genomics/ayroleslab2/scott/git/lts-manuscript/analysis/20230118-mmpy-lts-day1-headprobinterp-missingness-pchip5-fillnanmedian-tss64k-tsp32k-removegt6missing/TSNE/20230119_sigma2_7_minregions20_zVals_wShed_groups_finalsave.mat\"\n",
    ")"
   ]
  },
  {
   "cell_type": "code",
   "execution_count": null,
   "metadata": {},
   "outputs": [],
   "source": []
  }
 ],
 "metadata": {
  "kernelspec": {
   "display_name": "sleap_dev",
   "language": "python",
   "name": "python3"
  },
  "language_info": {
   "codemirror_mode": {
    "name": "ipython",
    "version": 3
   },
   "file_extension": ".py",
   "mimetype": "text/x-python",
   "name": "python",
   "nbconvert_exporter": "python",
   "pygments_lexer": "ipython3",
   "version": "3.7.11"
  },
  "orig_nbformat": 4,
  "vscode": {
   "interpreter": {
    "hash": "177c836934b6a63d57a075b5cc3f7812a3de8a98495a556647184ecb20fdf5fb"
   }
  }
 },
 "nbformat": 4,
 "nbformat_minor": 2
}

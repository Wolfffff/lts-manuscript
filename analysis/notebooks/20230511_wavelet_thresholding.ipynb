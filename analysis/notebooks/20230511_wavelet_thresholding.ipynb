{
 "cells": [
  {
   "attachments": {},
   "cell_type": "markdown",
   "metadata": {},
   "source": [
    "# 20230511 - Determining region level clustering \n",
    "\n",
    "1. Calculate lobm scargle on padded regions with known assignments\n",
    "2. Total power per joint within region (proboscis, locomotion, idle, etc)\n",
    "* Bar graph for total power\n",
    "* Threshold for things that aren’t actually moving\n",
    "\n",
    "3. Threshold each node (Slack)\n",
    "4. All by all distance claculation (frame by frame)\n",
    "* Normalized but thresholded\n",
    "* Unnormalized but thresholded\n",
    "* Unnormalized no threshold\n",
    "\n",
    "5. Generate distance matrix\n",
    "* Distance matrix with dendrogram"
   ]
  },
  {
   "cell_type": "code",
   "execution_count": null,
   "metadata": {},
   "outputs": [],
   "source": [
    "import os\n",
    "import h5py\n",
    "import numpy as np\n",
    "from scipy.io import loadmat\n",
    "import logging\n",
    "import pickle\n",
    "\n",
    "# Setting up proper logging\n",
    "logger = logging.getLogger(__name__)\n",
    "logger.setLevel(logging.INFO)\n",
    "logger.addHandler(logging.StreamHandler())\n",
    "\n",
    "wavelets_file = \"/Genomics/ayroleslab2/scott/git/lts-manuscript/analysis/notebooks/data/wavelet_results.pickle\"\n",
    "wavelet_results = pickle.load(open(wavelets_file, \"rb\"))"
   ]
  },
  {
   "cell_type": "code",
   "execution_count": null,
   "metadata": {},
   "outputs": [],
   "source": [
    "average_total_power_per_node = {}\n",
    "\n",
    "# Iterate over each behavior\n",
    "for behavior, behavior_wavelets in wavelet_results.items():\n",
    "    logger.info(f\"Aggregating wavelets for behavior {behavior}\")\n",
    "    wlets = np.concatenate(list(behavior_wavelets.values()), axis=0)\n",
    "    wlets = np.abs(wlets)# ** 2  # Power\n",
    "    # wlets[wlets < 1e7] = 0 # Thresholding\n",
    "    \n",
    "    total_power_per_node = []\n",
    "\n",
    "    # Calculate power per node for each set of wavelets\n",
    "    for wavelet in behavior_wavelets.values():\n",
    "        power = np.abs(wavelet) ** 2\n",
    "\n",
    "        # Sum over the frames axis (0th dimension, as power shape is (frames, nodes*freqs))\n",
    "        total_power = np.sum(power, axis=0)\n",
    "        \n",
    "        # Reshape to separate node and frequency dimensions (assuming number of nodes is 24 and freqs is 25)\n",
    "        total_power = total_power.reshape(-1, 24, 25)\n",
    "\n",
    "        # Sum over the frequency axis to get total power per node\n",
    "        total_power_per_node.append(np.sum(total_power, axis=2))\n",
    "\n",
    "    # Average over all wavelet sets for the behavior\n",
    "    average_total_power = np.mean(total_power_per_node, axis=0)\n",
    "\n",
    "    average_total_power_per_node[behavior] = average_total_power"
   ]
  },
  {
   "cell_type": "code",
   "execution_count": null,
   "metadata": {},
   "outputs": [],
   "source": [
    "import seaborn as sns\n",
    "import pandas as pd\n",
    "import matplotlib.pyplot as plt\n",
    "\n",
    "# Node names\n",
    "node_names = ['eyeL_x', 'eyeL_y', 'eyeR_x', 'eyeR_y', 'abdomen_x', 'abdomen_y', 'forelegL_x', 'forelegL_y', 'forelegR_x', 'forelegR_y', 'midlegL_x',\n",
    "              'midlegL_y', 'midlegR_x', 'midlegR_y', 'hindlegL_x', 'hindlegL_y', 'hindlegR_x', 'hindlegR_y', 'wingL_x', 'wingL_y', 'wingR_x', 'wingR_y', 'proboscis_x', 'proboscis_y']\n",
    "\n",
    "# Prepare data for seaborn\n",
    "data = []\n",
    "for behavior, powers in average_total_power_per_node.items():\n",
    "    for node_name, power in zip(node_names, powers.flatten()):\n",
    "        data.append([behavior, node_name, power])\n",
    "\n",
    "df = pd.DataFrame(data, columns=[\"Behavior\", \"Node\", \"Average Power\"])\n",
    "\n",
    "# Plot\n",
    "plt.figure(figsize=(15, 8))\n",
    "sns.barplot(data=df, x=\"Node\", y=\"Average Power\", hue=\"Behavior\")\n",
    "plt.title('Average Power per Behavior per Node')\n",
    "plt.ylabel('Average Power')\n",
    "plt.xlabel('Node')\n",
    "plt.xticks(rotation=90)\n",
    "plt.tight_layout()\n",
    "plt.yscale('log')\n",
    "plt.ylim(1e-2)\n",
    "plt.savefig('figures/power_per_behavior_per_node.jpg')\n",
    "plt.show()"
   ]
  },
  {
   "cell_type": "code",
   "execution_count": 41,
   "metadata": {},
   "outputs": [],
   "source": [
    "import seaborn as sns\n",
    "from scipy.spatial.distance import pdist, squareform\n",
    "from scipy.cluster.hierarchy import linkage\n",
    "\n",
    "# concatenate all wavelets from all behaviors and keep track of behavior assignments\n",
    "all_wavelets = []\n",
    "behavior_labels = []\n",
    "for behavior, behavior_wavelets in wavelet_results.items():\n",
    "    for wavelet in behavior_wavelets.values():\n",
    "        all_wavelets.append(wavelet)\n",
    "        behavior_labels.append(behavior)\n",
    "        \n",
    "behavior_labels = []\n",
    "for behavior, behavior_wavelets in wavelet_results.items():\n",
    "    for wavelet in behavior_wavelets.values():\n",
    "        behavior_labels += [behavior] * wavelet.shape[0]\n",
    "\n",
    "# stack all wavelets into a 2D array (frames x frequencies)\n",
    "all_wavelets = np.vstack(all_wavelets)"
   ]
  },
  {
   "cell_type": "code",
   "execution_count": 53,
   "metadata": {},
   "outputs": [],
   "source": [
    "import seaborn as sns\n",
    "import matplotlib.patches as mpatches\n",
    "from scipy.spatial.distance import pdist, squareform, jensenshannon\n",
    "from scipy.stats import entropy\n",
    "from sklearn.metrics import pairwise_distances\n",
    "import matplotlib.pyplot as plt\n",
    "\n",
    "\n",
    "def normalize_power_spectra(power_spectra):\n",
    "    power_spectra_reshaped = power_spectra.reshape(-1, 24, 25)\n",
    "    node_means = power_spectra_reshaped.mean(axis=-1)\n",
    "    node_stds = power_spectra_reshaped.std(axis=-1)\n",
    "\n",
    "    # Create a mask for nodes with non-zero standard deviation to avoid division by zero\n",
    "    non_zero_std_mask = node_stds != 0\n",
    "\n",
    "    # Z-score normalize each node\n",
    "    for i in range(power_spectra_reshaped.shape[0]):\n",
    "        power_spectra_reshaped[i, non_zero_std_mask[i]] = (power_spectra_reshaped[i, non_zero_std_mask[i]] - node_means[i, non_zero_std_mask[i]][:, None]) / node_stds[i, non_zero_std_mask[i]][:, None]\n",
    "\n",
    "    # Reshape back to original shape\n",
    "    power_spectra = power_spectra_reshaped.reshape(-1, 600)\n",
    "    return power_spectra, node_means, node_stds\n",
    "\n",
    "def threshold_power_spectra(power_spectra, threshold):\n",
    "    # Create a boolean mask for nodes with total power less than threshold\n",
    "    power_spectra_reshaped = power_spectra.reshape(-1, 24, 25)\n",
    "    node_sums = power_spectra_reshaped.sum(axis=-1)\n",
    "    mask = node_sums < threshold\n",
    "\n",
    "    # Use broadcasting to apply the mask across the last dimension (the 25 elements in each node)\n",
    "    for i in range(power_spectra_reshaped.shape[0]):\n",
    "        power_spectra_reshaped[i][mask[i]] = 0\n",
    "\n",
    "    power_spectra = power_spectra_reshaped.reshape(-1, 600)\n",
    "    return power_spectra\n",
    "\n",
    "\n",
    "def compute_distance_matrix(power_spectra, dist_method):\n",
    "    epsilon = 1e-8  # Small epsilon value\n",
    "    \n",
    "    if dist_method in ['euclidean', 'cityblock']:\n",
    "        dist_matrix = pd.DataFrame(squareform(pdist(power_spectra, metric=dist_method)), columns=behavior_labels, index=behavior_labels)\n",
    "    elif dist_method in ['kullback-leibler', 'jensen-shannon']:\n",
    "        # Convert data to probability distributions before calculating divergences\n",
    "        power_spectra_prob = power_spectra / (np.sum(power_spectra, axis=1, keepdims=True) + epsilon)\n",
    "        \n",
    "        if dist_method == 'kullback-leibler':\n",
    "            dist_matrix = pairwise_distances(power_spectra_prob, metric=entropy)\n",
    "        else:  # jensen-shannon\n",
    "            dist_matrix = pd.DataFrame(index=range(power_spectra.shape[0]), columns=range(power_spectra.shape[0]))\n",
    "            \n",
    "            for i in range(power_spectra.shape[0]):\n",
    "                for j in range(i, power_spectra.shape[0]):\n",
    "                    js_dist = jensenshannon(power_spectra_prob[i], power_spectra_prob[j])\n",
    "                    dist_matrix.at[i, j] = js_dist\n",
    "                    dist_matrix.at[j, i] = js_dist\n",
    "    else:\n",
    "        raise ValueError(\"Invalid distance method. Choose from 'euclidean', 'cityblock', 'kullback-leibler', 'jensen-shannon'\")\n",
    "    \n",
    "    return dist_matrix.astype(float)\n"
   ]
  },
  {
   "cell_type": "code",
   "execution_count": 58,
   "metadata": {},
   "outputs": [],
   "source": [
    "def plot_clustermap(dist_matrix, behavior_labels, output_filename):\n",
    "    color_dict = {'idle': 'red', 'loco': 'blue', 'proboscis': 'green', 'fore_groom': \"black\", 'hind_groom': 'orange'}\n",
    "    label_colors = [color_dict[label] for label in behavior_labels]\n",
    "\n",
    "    g = sns.clustermap(dist_matrix, method='average', cmap='viridis', figsize=(10, 10), row_colors=label_colors, col_colors=label_colors)\n",
    "    ax = g.ax_heatmap\n",
    "    ax.set_xticklabels('')\n",
    "    ax.set_yticklabels('')\n",
    "\n",
    "    # Create a legend for the color mapping\n",
    "    legend_patches = [mpatches.Patch(color=color, label=behavior) for behavior, color in color_dict.items()]\n",
    "\n",
    "    plt.legend(handles=legend_patches, bbox_to_anchor=(2, 1), loc='upper left')\n",
    "\n",
    "    plt.savefig(output_filename)\n",
    "\n",
    "# Usage example:\n"
   ]
  },
  {
   "attachments": {},
   "cell_type": "markdown",
   "metadata": {},
   "source": [
    "## No normalization or thresholding"
   ]
  },
  {
   "cell_type": "code",
   "execution_count": 59,
   "metadata": {},
   "outputs": [
    {
     "name": "stderr",
     "output_type": "stream",
     "text": [
      "Computing distance matrix using jensen-shannon distance\n"
     ]
    }
   ],
   "source": [
    "\n",
    "input = np.abs(all_wavelets)**2\n",
    "for dist_metric in [\"jensen-shannon\",\"kullback-leibler\", \"euclidean\", \"cityblock\"]:\n",
    "    logger.info(f\"Computing distance matrix using {dist_metric} distance\")\n",
    "    distance_matrix = compute_distance_matrix(input, dist_metric) \n",
    "    plot_clustermap(distance_matrix, behavior_labels, f'figures/power_clustermap_tieredls_nonormalization_nothreshold_{dist_metric}.jpg')\n"
   ]
  },
  {
   "attachments": {},
   "cell_type": "markdown",
   "metadata": {},
   "source": [
    "## No normalization but thresholding at 1e7 for each node\n",
    "\n",
    "That is, all power of the node is set to 0 if the power is less than 1e7."
   ]
  },
  {
   "cell_type": "code",
   "execution_count": null,
   "metadata": {},
   "outputs": [],
   "source": [
    "input = np.abs(all_wavelets)**2\n",
    "for dist_metric in [\"jensen-shannon\",\"kullback-leibler\", \"euclidean\", \"cityblock\"]:\n",
    "    thresholded_input = threshold_power_spectra(input, 1e7)\n",
    "    logger.info(f\"Computing distance matrix using {dist_metric} distance\")\n",
    "    distance_matrix = compute_distance_matrix(thresholded_input, dist_metric) \n",
    "    plot_clustermap(distance_matrix, behavior_labels, f'figures/power_clustermap_tieredls_nonormalization_threshold1e7_{dist_metric}.jpg')\n"
   ]
  },
  {
   "attachments": {},
   "cell_type": "markdown",
   "metadata": {},
   "source": [
    "## Normalization and thresholding\n",
    "\n",
    "Normalization is by normalize_power_spectra -- check the code above. I'm not sure if this is reasonable.\n",
    "\n",
    "\n",
    "Aall power of the node is set to 0 if the total power of the node in that frame is less than 1e7."
   ]
  },
  {
   "cell_type": "code",
   "execution_count": null,
   "metadata": {},
   "outputs": [],
   "source": [
    "input = np.abs(all_wavelets)**2\n",
    "for dist_metric in [\"jensen-shannon\",\"kullback-leibler\", \"euclidean\", \"cityblock\"]:\n",
    "    thresholded_input = threshold_power_spectra(input, 1e7)\n",
    "    normalized_thresholded_input,node_means,node_stds = normalize_power_spectra(thresholded_input)\n",
    "    logger.info(f\"Computing distance matrix using {dist_metric} distance\")\n",
    "    distance_matrix = compute_distance_matrix(normalized_thresholded_input, dist_metric) \n",
    "    plot_clustermap(distance_matrix, behavior_labels, f'figures/power_clustermap_tieredls_normalization_threshold1e7_{dist_metric}.jpg')\n"
   ]
  },
  {
   "cell_type": "code",
   "execution_count": null,
   "metadata": {},
   "outputs": [],
   "source": [
    "## Normalization but no thresholding\n",
    "\n",
    "That is, all power of the node is set to 0 if the power is less than 1e7."
   ]
  },
  {
   "cell_type": "code",
   "execution_count": null,
   "metadata": {},
   "outputs": [],
   "source": [
    "input = np.abs(all_wavelets)**2\n",
    "for dist_metric in [\"jensen-shannon\",\"kullback-leibler\", \"euclidean\", \"cityblock\"]:\n",
    "    thresholded_input = threshold_power_spectra(input, 1e7)\n",
    "    normalized_thresholded_input,node_means,node_stds = normalize_power_spectra(thresholded_input)\n",
    "    logger.info(f\"Computing distance matrix using {dist_metric} distance\")\n",
    "    distance_matrix = compute_distance_matrix(normalized_thresholded_input, dist_metric) \n",
    "    plot_clustermap(distance_matrix, behavior_labels, f'figures/power_clustermap_tieredls_normalization_threshold1e7_{dist_metric}.jpg')\n"
   ]
  },
  {
   "cell_type": "code",
   "execution_count": null,
   "metadata": {},
   "outputs": [],
   "source": []
  }
 ],
 "metadata": {
  "kernelspec": {
   "display_name": "sleap_dev",
   "language": "python",
   "name": "python3"
  },
  "language_info": {
   "codemirror_mode": {
    "name": "ipython",
    "version": 3
   },
   "file_extension": ".py",
   "mimetype": "text/x-python",
   "name": "python",
   "nbconvert_exporter": "python",
   "pygments_lexer": "ipython3",
   "version": "3.7.11"
  },
  "orig_nbformat": 4
 },
 "nbformat": 4,
 "nbformat_minor": 2
}

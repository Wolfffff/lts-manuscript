{
 "cells": [
  {
   "cell_type": "code",
   "execution_count": null,
   "metadata": {},
   "outputs": [],
   "source": [
    "import sleap"
   ]
  },
  {
   "cell_type": "code",
   "execution_count": null,
   "metadata": {},
   "outputs": [],
   "source": [
    "metrics = sleap.load_metrics(\"../data/models/centered_instance\", split=\"val\")\n",
    "skeleton = sleap.skeleton.Skeleton.load_json(\"../data/skeleton.json\")\n",
    "px_to_mm = 28.25\n",
    "# print(\"\\n\".join(metrics.keys()))"
   ]
  },
  {
   "cell_type": "code",
   "execution_count": null,
   "metadata": {},
   "outputs": [],
   "source": [
    "import pandas as pd \n",
    "dists = metrics['dist.dists']\n",
    "res = dists * (1/px_to_mm)\n",
    "res = pd.DataFrame(res, columns = skeleton.node_names)\n",
    "res = pd.melt(res, value_vars=skeleton.node_names,var_name=\"Landmark\",value_name=\"Error (mm)\")\n"
   ]
  },
  {
   "cell_type": "code",
   "execution_count": null,
   "metadata": {},
   "outputs": [],
   "source": [
    "\n",
    "import seaborn as sns\n",
    "import matplotlib.pyplot as plt\n",
    "\n",
    "g = sns.FacetGrid(res, row=\"Landmark\", hue=\"Landmark\", aspect=7, height=0.6, palette=\"husl\")\n",
    "g.map(sns.kdeplot, \"Error (mm)\", clip=(0,0.2), bw_adjust=0.1, fill=True, alpha=0.9, linewidth=0)\n",
    "g.map(plt.axhline, y=0, lw=1.0, c=\"k\")\n",
    "\n",
    "def label(x, color, label):\n",
    "    ax = plt.gca()\n",
    "    ax.patch.set_alpha(0)\n",
    "    ax.text(1, 0.3, label, fontweight=\"bold\", color=color, ha=\"right\", va=\"center\", transform=ax.transAxes)\n",
    "g.map(label, \"Landmark\")\n",
    "\n",
    "g.set_titles(\"\")\n",
    "g.set(yticks=[])\n",
    "g.despine(bottom=True, left=True)\n",
    "g.fig.subplots_adjust(hspace=-0.5)\n",
    "plt.xlabel(\"Error (mm)\");"
   ]
  },
  {
   "cell_type": "code",
   "execution_count": null,
   "metadata": {},
   "outputs": [],
   "source": [
    "errors_90th = res.groupby('Landmark').quantile(.90)\n",
    "errors_90th_px = errors_90th*28.25\n",
    "\n",
    "errors_80th = res.groupby('Landmark').quantile(.80)\n",
    "errors_80th_px = errors_80th*28.25"
   ]
  },
  {
   "cell_type": "code",
   "execution_count": null,
   "metadata": {},
   "outputs": [],
   "source": [
    "filename = \"../data/cam1_20220217_0through190_cam1_20220217_0through190_1-tracked.analysis.h5\""
   ]
  },
  {
   "cell_type": "code",
   "execution_count": null,
   "metadata": {},
   "outputs": [],
   "source": [
    "import h5py\n",
    "import numpy as np\n",
    "\n",
    "with h5py.File(filename, \"r\") as f:\n",
    "    dset_names = list(f.keys())\n",
    "    locations = f[\"tracks\"][:].T\n",
    "    node_names = [n.decode() for n in f[\"node_names\"][:]]\n",
    "\n",
    "print(\"===filename===\")\n",
    "print(filename)\n",
    "print()\n",
    "\n",
    "print(\"===HDF5 datasets===\")\n",
    "print(dset_names)\n",
    "print()\n",
    "\n",
    "print(\"===locations data shape===\")\n",
    "print(locations.shape)\n",
    "print()\n",
    "\n",
    "print(\"===nodes===\")\n",
    "for i, name in enumerate(node_names):\n",
    "    print(f\"{i}: {name}\")\n",
    "print()"
   ]
  },
  {
   "cell_type": "code",
   "execution_count": null,
   "metadata": {},
   "outputs": [],
   "source": [
    "import cv2\n",
    "\n",
    "# pose, img, window, nodes, percs, perc_errs = data[\"pose\"], data[\"img\"], data[\"window\"].squeeze(), data[\"nodes\"], data[\"percs\"], data[\"perc_errs\"]\n",
    "\n",
    "pose = locations[93932,:,:,0]\n",
    "videofile = \"/Genomics/ayroleslab2/scott/long-timescale-behavior/data/organized_videos/20220217-lts-cam1/20220217-lts-cam1-0000.mp4\"\n",
    "\n",
    "cap = cv2.VideoCapture(videofile)\n",
    "cap.set(1,93932);\n",
    "success, img = cap.read()\n"
   ]
  },
  {
   "cell_type": "code",
   "execution_count": null,
   "metadata": {},
   "outputs": [],
   "source": [
    "%matplotlib inline\n",
    "\n",
    "import pandas as pd\n",
    "import numpy as np\n",
    "from scipy.io import loadmat\n",
    "\n",
    "import matplotlib.pyplot as plt\n",
    "import seaborn as sns\n",
    "import matplotlib.style\n",
    "import matplotlib as mpl\n",
    "from matplotlib.patches import Circle\n",
    "from matplotlib import patches\n",
    "\n",
    "mpl.rcParams[\"figure.facecolor\"] = \"w\"\n",
    "mpl.rcParams[\"figure.dpi\"] = 150\n",
    "mpl.rcParams[\"savefig.dpi\"] = 600\n",
    "mpl.rcParams[\"savefig.transparent\"] = True\n",
    "mpl.rcParams[\"font.size\"] = 15\n",
    "mpl.rcParams[\"font.family\"] = \"sans-serif\"\n",
    "mpl.rcParams[\"font.sans-serif\"] = [\"Arial\", \"DejaVu Sans\"]\n",
    "mpl.rcParams[\"axes.titlesize\"] = \"xx-large\"  # medium, large, x-large, xx-large\n",
    "\n",
    "mpl.style.use(\"seaborn-deep\")"
   ]
  },
  {
   "cell_type": "code",
   "execution_count": null,
   "metadata": {},
   "outputs": [],
   "source": [
    "px_per_mm = 28.25\n",
    "ctr = np.nanmean(pose, axis=0)\n",
    "window = [-50,50]\n",
    "nodes = node_names\n",
    "tmp = [errors_90th_px[errors_90th_px.index == node] for node in node_names]\n",
    "tmp  = pd.concat(tmp)\n",
    "perc_errs = tmp.to_numpy()\n",
    "percs=np.array([\"90\"])\n",
    "\n",
    "fig = plt.figure(figsize=(6, 6))\n",
    "ax = fig.add_axes([0, 0, 1, 1], frameon=False)\n",
    "ax.get_xaxis().set_visible(False)\n",
    "ax.get_yaxis().set_visible(False)\n",
    "plt.autoscale(tight=True)\n",
    "plt.imshow(img, cmap=\"gray\")\n",
    "plt.xticks([]), plt.yticks([]);\n",
    "plt.ylim(window[::-1] + ctr[1])\n",
    "plt.xlim(window + ctr[0]);\n",
    "\n",
    "\n",
    "\n",
    "cmap = sns.color_palette(\"husl\", n_colors=len(nodes))\n",
    "for j in range(len(nodes)):\n",
    "    ax.add_patch(Circle(xy=pose[j], radius=1, fill=True, lw=0, alpha=0.7, fc=cmap[j]))\n",
    "    ax.add_patch(Circle(xy=pose[j], radius=perc_errs[j], fill=False, lw=1.5, alpha=0.7, ec=cmap[j], label=f\"{percs[j]}%\" if j == 0 else None))\n",
    "    \n",
    "tmp = [errors_80th_px[errors_80th_px.index == node] for node in node_names]\n",
    "tmp  = pd.concat(tmp)\n",
    "perc_errs = tmp.to_numpy()\n",
    "percs=np.array([\"80\"])\n",
    "\n",
    "for j in range(len(nodes)):\n",
    "    ax.add_patch(Circle(xy=pose[j], radius=1, fill=True, lw=0, alpha=0.7, fc=cmap[j]))\n",
    "    ax.add_patch(Circle(xy=pose[j], radius=perc_errs[j], fill=False, lw=1.5, alpha=0.7, ec=cmap[j], label=f\"{percs[j]}%\" if j == 0 else None))\n",
    "\n",
    "x, y = ctr[0] + 30, ctr[1] + 40\n",
    "plt.plot([x, x + px_per_mm * 0.5], [y, y], \"w-\", color=\"black\", lw=10)\n",
    "plt.text(x + px_per_mm * 0.25, y + 5, \"0.5 mm\", fontweight=\"bold\", color=\"black\", ha=\"center\", va=\"top\", fontsize=18);\n"
   ]
  },
  {
   "cell_type": "code",
   "execution_count": null,
   "metadata": {},
   "outputs": [],
   "source": [
    "import sys\n",
    "sys.path.append('../')\n",
    "import analysis.utils.trx_utils as trx_utils"
   ]
  },
  {
   "cell_type": "code",
   "execution_count": null,
   "metadata": {},
   "outputs": [],
   "source": [
    "import importlib\n",
    "importlib.reload(trx_utils)\n",
    "filtered_locations = trx_utils.fill_missing_np(locations)\n",
    "filtered_locations = trx_utils.smooth_median(filtered_locations)\n",
    "filtered_locations = trx_utils.smooth_gaussian(filtered_locations)\n"
   ]
  },
  {
   "cell_type": "code",
   "execution_count": null,
   "metadata": {},
   "outputs": [],
   "source": [
    "# start = int(2058*99.96)\n",
    "start = int(2091*99.96)\n",
    "end = start + 150\n",
    "trx_utils.plot_trx(filtered_locations, videofile,frame_start=start,frame_end=end,trail_length=100)"
   ]
  }
 ],
 "metadata": {
  "kernelspec": {
   "display_name": "Python 3.7.11 ('sleap_dev')",
   "language": "python",
   "name": "python3"
  },
  "language_info": {
   "codemirror_mode": {
    "name": "ipython",
    "version": 3
   },
   "file_extension": ".py",
   "mimetype": "text/x-python",
   "name": "python",
   "nbconvert_exporter": "python",
   "pygments_lexer": "ipython3",
   "version": "3.7.11"
  },
  "orig_nbformat": 4,
  "vscode": {
   "interpreter": {
    "hash": "177c836934b6a63d57a075b5cc3f7812a3de8a98495a556647184ecb20fdf5fb"
   }
  }
 },
 "nbformat": 4,
 "nbformat_minor": 2
}
